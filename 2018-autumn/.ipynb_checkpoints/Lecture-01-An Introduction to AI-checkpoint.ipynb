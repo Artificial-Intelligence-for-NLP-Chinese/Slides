{
 "cells": [
  {
   "cell_type": "code",
   "execution_count": 7,
   "metadata": {},
   "outputs": [],
   "source": [
    "grammar = \"\"\"\n",
    "sentence = adj noun verb adv noun2\n",
    "adj = adj_single adj_single 的 | null\n",
    "adj_single = 漂亮  | 蓝色 | 好看\n",
    "adv = 安静地 | 静静\n",
    "noun = 猫 | 女人 | 男人\n",
    "verb = adv 看着 | adv 坐着 \n",
    "noun2 = 桌子 | 皮球 \n",
    "\"\"\""
   ]
  },
  {
   "cell_type": "code",
   "execution_count": 8,
   "metadata": {},
   "outputs": [],
   "source": [
    "def build_grammar(grammar_str, split='='):\n",
    "    grammar_pattern = {}\n",
    "    for line in grammar_str.split('\\n'):\n",
    "        if not line: continue\n",
    "        stmt, expr = line.split(split)\n",
    "        grammar_pattern[stmt.strip()] = [e.split() for e in expr.split('|')]\n",
    "    return grammar_pattern"
   ]
  },
  {
   "cell_type": "code",
   "execution_count": 9,
   "metadata": {},
   "outputs": [],
   "source": [
    "import random"
   ]
  },
  {
   "cell_type": "code",
   "execution_count": 10,
   "metadata": {},
   "outputs": [],
   "source": [
    "def generate(grammar_pattern, target):\n",
    "    if target not in grammar_pattern: return target\n",
    "    \n",
    "    expr = random.choice(grammar_pattern[target])\n",
    "    \n",
    "    tokens = [generate(grammar_pattern, e) for e in expr]\n",
    "    \n",
    "    return ''.join([t for t in tokens if t != 'null'])"
   ]
  },
  {
   "cell_type": "code",
   "execution_count": 11,
   "metadata": {},
   "outputs": [],
   "source": [
    "grammar_pattern = build_grammar(grammar)"
   ]
  },
  {
   "cell_type": "code",
   "execution_count": 12,
   "metadata": {},
   "outputs": [
    {
     "data": {
      "text/plain": [
       "'漂亮蓝色的女人安静地坐着静静皮球'"
      ]
     },
     "execution_count": 12,
     "metadata": {},
     "output_type": "execute_result"
    }
   ],
   "source": [
    "generate(grammar_pattern, 'sentence')"
   ]
  },
  {
   "cell_type": "markdown",
   "metadata": {},
   "source": [
    "## A simple solution"
   ]
  },
  {
   "cell_type": "code",
   "execution_count": 14,
   "metadata": {},
   "outputs": [],
   "source": [
    "def adj(): return random.choice('漂亮 | 蓝色 | 好看'.split('|'))"
   ]
  },
  {
   "cell_type": "code",
   "execution_count": 15,
   "metadata": {},
   "outputs": [],
   "source": [
    "def noun(): return  random.choice('猫 | 女人 | 男人'.split('|'))"
   ]
  },
  {
   "cell_type": "code",
   "execution_count": 16,
   "metadata": {},
   "outputs": [],
   "source": [
    "def verb(): return random.choice('看着 | 坐着 '.split('|'))"
   ]
  },
  {
   "cell_type": "code",
   "execution_count": 17,
   "metadata": {},
   "outputs": [],
   "source": [
    "def noun2(): return random.choice('桌子 | 皮球'.split('|'))"
   ]
  },
  {
   "cell_type": "code",
   "execution_count": 23,
   "metadata": {},
   "outputs": [],
   "source": [
    "def sentence(): return ''.join([adj(), noun(), verb(), noun2()])"
   ]
  },
  {
   "cell_type": "code",
   "execution_count": 46,
   "metadata": {},
   "outputs": [
    {
     "data": {
      "text/plain": [
       "' 蓝色 猫  坐着  皮球'"
      ]
     },
     "execution_count": 46,
     "metadata": {},
     "output_type": "execute_result"
    }
   ],
   "source": [
    "sentence()"
   ]
  },
  {
   "cell_type": "markdown",
   "metadata": {},
   "source": [
    "## Search Based Intelligence"
   ]
  },
  {
   "cell_type": "markdown",
   "metadata": {},
   "source": [
    "## BSF 广度搜索 DFS 深度优先搜索"
   ]
  },
  {
   "cell_type": "markdown",
   "metadata": {},
   "source": [
    "### BFS Breadth First Search \n",
    "### DFS Deep First Search"
   ]
  },
  {
   "cell_type": "code",
   "execution_count": 219,
   "metadata": {},
   "outputs": [],
   "source": [
    "graph = {\n",
    "    'A' :'B B B C', \n",
    "    'B' : 'A C', \n",
    "    'C' : 'A B D E',\n",
    "    'D' : 'C',\n",
    "    'E' : 'C F',\n",
    "    'F' : 'E'\n",
    "}"
   ]
  },
  {
   "cell_type": "code",
   "execution_count": 245,
   "metadata": {},
   "outputs": [],
   "source": [
    "for k in graph:\n",
    "    graph[k] = set(graph[k].split())"
   ]
  },
  {
   "cell_type": "code",
   "execution_count": 230,
   "metadata": {},
   "outputs": [
    {
     "data": {
      "text/plain": [
       "True"
      ]
     },
     "execution_count": 230,
     "metadata": {},
     "output_type": "execute_result"
    }
   ],
   "source": [
    "'元素' in set('1 2 3 4 5 6 7 8 9 10 100000 元素'.split())"
   ]
  },
  {
   "cell_type": "code",
   "execution_count": 229,
   "metadata": {},
   "outputs": [
    {
     "name": "stdout",
     "output_type": "stream",
     "text": [
      "元素\n",
      "2\n",
      "1\n",
      "100000\n",
      "9\n",
      "4\n",
      "3\n",
      "8\n",
      "6\n",
      "7\n",
      "5\n",
      "10\n"
     ]
    }
   ],
   "source": [
    "for element in set('1 2 3 4 5 6 7 8 9 10 100000 元素'.split()):\n",
    "    print(element)"
   ]
  },
  {
   "cell_type": "code",
   "execution_count": 216,
   "metadata": {},
   "outputs": [
    {
     "data": {
      "text/plain": [
       "{'A': {'B', 'C'},\n",
       " 'B': {'A', 'C'},\n",
       " 'C': {'A', 'B', 'D', 'E'},\n",
       " 'D': {'C'},\n",
       " 'E': {'C', 'F'},\n",
       " 'F': {'E'}}"
      ]
     },
     "execution_count": 216,
     "metadata": {},
     "output_type": "execute_result"
    }
   ],
   "source": [
    "graph"
   ]
  },
  {
   "cell_type": "code",
   "execution_count": 234,
   "metadata": {},
   "outputs": [],
   "source": [
    "L = [0, 1, 2, 3, 4, 5]"
   ]
  },
  {
   "cell_type": "markdown",
   "metadata": {},
   "source": [
    "## Breadth First Search"
   ]
  },
  {
   "cell_type": "code",
   "execution_count": 209,
   "metadata": {},
   "outputs": [
    {
     "name": "stdout",
     "output_type": "stream",
     "text": [
      "   I am looking at : A\n",
      "   I am looking at : C\n",
      "   I am looking at : B\n",
      "   I am looking at : D\n",
      "   I am looking at : E\n",
      "   I am looking at : F\n"
     ]
    }
   ],
   "source": [
    "while need_visited:\n",
    "    node = need_visited.pop(0)\n",
    "    if node in seen: continue\n",
    "    print('   I am looking at : {}'.format(node))\n",
    "    need_visited += graph[node]\n",
    "    \n",
    "    seen.add(node)"
   ]
  },
  {
   "cell_type": "markdown",
   "metadata": {},
   "source": [
    "## Deep First Search"
   ]
  },
  {
   "cell_type": "code",
   "execution_count": 287,
   "metadata": {},
   "outputs": [],
   "source": [
    "graph_long = {\n",
    "    '1': '2 7',\n",
    "    '2': '3', \n",
    "    '3': '4', \n",
    "    '4': '5', \n",
    "    '5': '6 10', \n",
    "    '7': '8',\n",
    "    '6': '5',\n",
    "    '8': '9',\n",
    "    '9': '10', \n",
    "    '10': '5 11', \n",
    "    '11': '12',\n",
    "    '12': '11',\n",
    "}"
   ]
  },
  {
   "cell_type": "code",
   "execution_count": 288,
   "metadata": {},
   "outputs": [],
   "source": [
    "for n in graph_long: graph_long[n] = graph_long[n].split()"
   ]
  },
  {
   "cell_type": "markdown",
   "metadata": {},
   "source": [
    "## Repetition is the mother of evil."
   ]
  },
  {
   "cell_type": "code",
   "execution_count": 283,
   "metadata": {},
   "outputs": [],
   "source": [
    "def search(graph, concat_func):\n",
    "    seen = set()\n",
    "    need_visited = ['1']   \n",
    "    \n",
    "    while need_visited:\n",
    "        node = need_visited.pop(0)\n",
    "        if node in seen: continue\n",
    "        print('   I am looking at : {}'.format(node))\n",
    "        seen.add(node)\n",
    "        new_discoveried = graph[node]        \n",
    "        need_visited = concat_func(new_discoveried, need_visited)"
   ]
  },
  {
   "cell_type": "code",
   "execution_count": 298,
   "metadata": {},
   "outputs": [],
   "source": [
    "def treat_new_discover_more_important(new_discoveried, need_visited):\n",
    "    return new_discoveried + need_visited\n",
    "\n",
    "def treat_already_discoveried_more_important(new_discoveried, need_visited):\n",
    "    return need_visited + new_discoveried"
   ]
  },
  {
   "cell_type": "code",
   "execution_count": 289,
   "metadata": {},
   "outputs": [
    {
     "name": "stdout",
     "output_type": "stream",
     "text": [
      "   I am looking at : 1\n",
      "   I am looking at : 2\n",
      "   I am looking at : 7\n",
      "   I am looking at : 3\n",
      "   I am looking at : 8\n",
      "   I am looking at : 4\n",
      "   I am looking at : 9\n",
      "   I am looking at : 5\n",
      "   I am looking at : 10\n",
      "   I am looking at : 6\n",
      "   I am looking at : 11\n",
      "   I am looking at : 12\n"
     ]
    }
   ],
   "source": [
    "search(graph_long, treat_already_discoveried_more_important)"
   ]
  },
  {
   "cell_type": "code",
   "execution_count": 290,
   "metadata": {},
   "outputs": [
    {
     "name": "stdout",
     "output_type": "stream",
     "text": [
      "   I am looking at : 1\n",
      "   I am looking at : 2\n",
      "   I am looking at : 3\n",
      "   I am looking at : 4\n",
      "   I am looking at : 5\n",
      "   I am looking at : 6\n",
      "   I am looking at : 10\n",
      "   I am looking at : 11\n",
      "   I am looking at : 12\n",
      "   I am looking at : 7\n",
      "   I am looking at : 8\n",
      "   I am looking at : 9\n"
     ]
    }
   ],
   "source": [
    "search(graph_long, treat_new_discover_more_important)"
   ]
  },
  {
   "cell_type": "code",
   "execution_count": 291,
   "metadata": {},
   "outputs": [],
   "source": [
    "from functools import partial"
   ]
  },
  {
   "cell_type": "code",
   "execution_count": 294,
   "metadata": {},
   "outputs": [],
   "source": [
    "dfs = partial(search, concat_func=treat_new_discover_more_important)"
   ]
  },
  {
   "cell_type": "code",
   "execution_count": 295,
   "metadata": {},
   "outputs": [
    {
     "name": "stdout",
     "output_type": "stream",
     "text": [
      "   I am looking at : 1\n",
      "   I am looking at : 2\n",
      "   I am looking at : 3\n",
      "   I am looking at : 4\n",
      "   I am looking at : 5\n",
      "   I am looking at : 6\n",
      "   I am looking at : 10\n",
      "   I am looking at : 11\n",
      "   I am looking at : 12\n",
      "   I am looking at : 7\n",
      "   I am looking at : 8\n",
      "   I am looking at : 9\n"
     ]
    }
   ],
   "source": [
    "dfs(graph_long)"
   ]
  },
  {
   "cell_type": "code",
   "execution_count": 296,
   "metadata": {},
   "outputs": [],
   "source": [
    "bfs = partial(search, concat_func=treat_already_discoveried_more_important)"
   ]
  },
  {
   "cell_type": "code",
   "execution_count": 297,
   "metadata": {},
   "outputs": [
    {
     "name": "stdout",
     "output_type": "stream",
     "text": [
      "   I am looking at : 1\n",
      "   I am looking at : 2\n",
      "   I am looking at : 7\n",
      "   I am looking at : 3\n",
      "   I am looking at : 8\n",
      "   I am looking at : 4\n",
      "   I am looking at : 9\n",
      "   I am looking at : 5\n",
      "   I am looking at : 10\n",
      "   I am looking at : 6\n",
      "   I am looking at : 11\n",
      "   I am looking at : 12\n"
     ]
    }
   ],
   "source": [
    "bfs(graph_long)"
   ]
  },
  {
   "cell_type": "markdown",
   "metadata": {},
   "source": [
    "## Mapping"
   ]
  },
  {
   "cell_type": "code",
   "execution_count": 299,
   "metadata": {},
   "outputs": [],
   "source": [
    "BJ = 'Beijing'\n",
    "SZ = 'Shenzhen'\n",
    "GZ = 'Guangzhou'\n",
    "WH = 'Wuhan'\n",
    "HLG = 'Heilongjiang'\n",
    "NY = 'New York City'\n",
    "CM = 'Chiangmai'\n",
    "SG = 'Singapore'"
   ]
  },
  {
   "cell_type": "code",
   "execution_count": 318,
   "metadata": {},
   "outputs": [],
   "source": [
    "air_route = {\n",
    "    BJ : {SZ, GZ, WH, HLG, NY}, \n",
    "    GZ : {WH, BJ, CM, SG},\n",
    "    SZ : {BJ, SG},\n",
    "    WH : {BJ, GZ},\n",
    "    HLG : {BJ},\n",
    "    CM : {GZ},\n",
    "    NY : {BJ}\n",
    "}"
   ]
  },
  {
   "cell_type": "code",
   "execution_count": 301,
   "metadata": {},
   "outputs": [],
   "source": [
    "import networkx"
   ]
  },
  {
   "cell_type": "code",
   "execution_count": 319,
   "metadata": {},
   "outputs": [],
   "source": [
    "air_route = networkx.Graph(air_route)"
   ]
  },
  {
   "cell_type": "code",
   "execution_count": 304,
   "metadata": {},
   "outputs": [],
   "source": [
    "%matplotlib inline"
   ]
  },
  {
   "cell_type": "code",
   "execution_count": 320,
   "metadata": {},
   "outputs": [
    {
     "data": {
      "image/png": "[encoded data removed]",
      "text/plain": [
       "<Figure size 432x288 with 1 Axes>"
      ]
     },
     "metadata": {},
     "output_type": "display_data"
    }
   ],
   "source": [
    "networkx.draw(air_route, with_labels=True)"
   ]
  },
  {
   "cell_type": "code",
   "execution_count": 334,
   "metadata": {},
   "outputs": [],
   "source": [
    "def search_desitination(graph, start, destination):\n",
    "    pathes = [[start]]\n",
    "    seen = set()\n",
    "    choosen_pathes = []\n",
    "    while pathes:\n",
    "        path = pathes.pop(0)\n",
    "        froniter = path[-1]\n",
    "        if froniter in seen: continue\n",
    "        # get new lines\n",
    "        \n",
    "        for city in graph[froniter]:\n",
    "            new_path = path + [city]\n",
    "            pathes.append(new_path)\n",
    "            if city == destination: return new_path\n",
    "        \n",
    "        seen.add(city)\n",
    "    return choosen_pathes"
   ]
  },
  {
   "cell_type": "code",
   "execution_count": 332,
   "metadata": {},
   "outputs": [],
   "source": [
    "def draw_route(cities): return ' ✈️ -> '.join(cities)"
   ]
  },
  {
   "cell_type": "code",
   "execution_count": 336,
   "metadata": {},
   "outputs": [
    {
     "data": {
      "text/plain": [
       "'Shenzhen ✈️ -> Beijing ✈️ -> Guangzhou ✈️ -> Chiangmai'"
      ]
     },
     "execution_count": 336,
     "metadata": {},
     "output_type": "execute_result"
    }
   ],
   "source": [
    "draw_route(search_desitination(air_route, SZ, CM))"
   ]
  },
  {
   "cell_type": "code",
   "execution_count": null,
   "metadata": {},
   "outputs": [],
   "source": []
  }
 ],
 "metadata": {
  "kernelspec": {
   "display_name": "Python 3",
   "language": "python",
   "name": "python3"
  },
  "language_info": {
   "codemirror_mode": {
    "name": "ipython",
    "version": 3
   },
   "file_extension": ".py",
   "mimetype": "text/x-python",
   "name": "python",
   "nbconvert_exporter": "python",
   "pygments_lexer": "ipython3",
   "version": "3.7.0"
  }
 },
 "nbformat": 4,
 "nbformat_minor": 2
}
