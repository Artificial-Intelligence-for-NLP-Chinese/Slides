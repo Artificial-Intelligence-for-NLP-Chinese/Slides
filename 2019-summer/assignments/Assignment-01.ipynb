{
 "cells": [
  {
   "cell_type": "markdown",
   "metadata": {},
   "source": [
    "## Lesson-01 Assignment"
   ]
  },
  {
   "cell_type": "markdown",
   "metadata": {},
   "source": [
    ">"
   ]
  },
  {
   "cell_type": "markdown",
   "metadata": {},
   "source": [
    "`各位同学大家好，欢迎各位开始学习我们的人工智能课程。这门课程假设大家不具备机器学习和人工智能的知识，但是希望大家具备初级的Python编程能力。根据往期同学的实际反馈，我们课程的完结之后 能力能够超过80%的计算机人工智能/深度学习方向的硕士生的能力。`"
   ]
  },
  {
   "cell_type": "markdown",
   "metadata": {},
   "source": [
    "## 本次作业的内容"
   ]
  },
  {
   "cell_type": "markdown",
   "metadata": {},
   "source": [
    "#### 1. 复现课堂代码\n",
    "\n",
    "在本部分，你需要参照我们给大家的GitHub地址里边的课堂代码，结合课堂内容，复现内容。"
   ]
  },
  {
   "cell_type": "markdown",
   "metadata": {},
   "source": [
    "#### 2. 请回答以下问题\n",
    "\n",
    "回答以下问题，并将问题发送至 mqgao@kaikeba.com中：\n",
    "```\n",
    "    2.1. what do you want to acquire in this course？\n",
    "    2.2. what problems do you want to solve？\n",
    "    2.3. what’s the advantages you have to finish you goal?\n",
    "    2.4. what’s the disadvantages you need to overcome to finish you goal?\n",
    "    2.5. How will you plan to study in this course period?\n",
    "```"
   ]
  },
  {
   "cell_type": "markdown",
   "metadata": {},
   "source": [
    "#### 3. 如何提交\n",
    "代码 + 此 jupyter 相关，提交至自己的 github 中(**所以请务必把GitHub按照班主任要求录入在Trello中**)；\n",
    "第2问，请提交至mqgao@kaikeba.com邮箱。\n",
    "#### 4. 作业截止时间\n",
    "此次作业截止时间为 2019.7.6日"
   ]
  },
  {
   "cell_type": "markdown",
   "metadata": {},
   "source": [
    "#### 5. 完成以下问答和编程练习"
   ]
  },
  {
   "cell_type": "markdown",
   "metadata": {},
   "source": [
    ">"
   ]
  },
  {
   "cell_type": "markdown",
   "metadata": {},
   "source": [
    "## 基础理论部分"
   ]
  },
  {
   "cell_type": "markdown",
   "metadata": {},
   "source": [
    "#### 0. Can you come up out 3 sceneraies which use AI methods? "
   ]
  },
  {
   "cell_type": "markdown",
   "metadata": {},
   "source": [
    "Ans: {Speech Recognization, Auto Driving, Human-like Robot}"
   ]
  },
  {
   "cell_type": "markdown",
   "metadata": {},
   "source": [
    "#### 1. How do we use Github; Why do we use Jupyter and Pycharm;"
   ]
  },
  {
   "cell_type": "markdown",
   "metadata": {},
   "source": [
    "Ans: {  \n",
    "1.  \n",
    "Upload local repository to github;  \n",
    "Select/Create a branch, commit each changes.  \n",
    "Pull requests to the master branch.  \n",
    "  \n",
    "2.   \n",
    "Jupyter is used for display and Pycharm is used for professional devolopment   \n",
    "  \n",
    "}"
   ]
  },
  {
   "cell_type": "markdown",
   "metadata": {},
   "source": [
    "#### 2. What's the Probability Model?"
   ]
  },
  {
   "cell_type": "markdown",
   "metadata": {},
   "source": [
    "Ans:   \n",
    "A probability model is a mathematical representation of a random phenomenon  --wikipedia"
   ]
  },
  {
   "cell_type": "markdown",
   "metadata": {},
   "source": [
    "#### 3. Can you came up with some sceneraies at which we could use Probability Model?"
   ]
  },
  {
   "cell_type": "markdown",
   "metadata": {},
   "source": [
    "Ans:   \n",
    "Language Model, Stoke predicton model, etc. "
   ]
  },
  {
   "cell_type": "markdown",
   "metadata": {},
   "source": [
    "#### 4. Why do we use probability and what's the difficult points for programming based on parsing and pattern match?"
   ]
  },
  {
   "cell_type": "markdown",
   "metadata": {},
   "source": [
    "Ans:    \n",
    "Common language usage and logical mistake can be reflected on probability model. Language is so diverse that parsing and pattern can not represent all the language.\n"
   ]
  },
  {
   "cell_type": "markdown",
   "metadata": {},
   "source": [
    "#### 5. What's the Language Model;"
   ]
  },
  {
   "cell_type": "markdown",
   "metadata": {},
   "source": [
    "Ans:   \n",
    "A statistical language model is a probability distribution over sequences of words. --WikiPedia"
   ]
  },
  {
   "cell_type": "markdown",
   "metadata": {},
   "source": [
    "#### 6. Can you came up with some sceneraies at which we could use Language Model?\n"
   ]
  },
  {
   "cell_type": "markdown",
   "metadata": {},
   "source": [
    "Ans:  \n",
    "In speech recognization, we can use language model to \"guess\" what the next word is, which could make the system perform better."
   ]
  },
  {
   "cell_type": "markdown",
   "metadata": {},
   "source": [
    "#### 7. What's the 1-gram language model;"
   ]
  },
  {
   "cell_type": "markdown",
   "metadata": {},
   "source": [
    "Ans:  \n",
    "The probability distribution of every single token, like word, symbol, etc."
   ]
  },
  {
   "cell_type": "markdown",
   "metadata": {},
   "source": [
    "#### 8. What's the disadvantages and advantages of 1-gram language model;"
   ]
  },
  {
   "cell_type": "markdown",
   "metadata": {},
   "source": [
    "Ans:  \n",
    "1-gram model is fast and easy to deploy, but it can not represent the context information, like the connection of tokens."
   ]
  },
  {
   "cell_type": "markdown",
   "metadata": {},
   "source": [
    "#### 9. What't the 2-gram models;"
   ]
  },
  {
   "cell_type": "markdown",
   "metadata": {},
   "source": [
    "Ans:  \n",
    "The conditional probability distribution of every single token, given the previous token."
   ]
  },
  {
   "cell_type": "markdown",
   "metadata": {},
   "source": [
    "## 编程实践部分"
   ]
  },
  {
   "cell_type": "markdown",
   "metadata": {},
   "source": [
    "#### 1. 设计你自己的句子生成器"
   ]
  },
  {
   "cell_type": "markdown",
   "metadata": {},
   "source": [
    "如何生成句子是一个很经典的问题，从1940s开始，图灵提出机器智能的时候，就使用的是人类能不能流畅和计算机进行对话。和计算机对话的一个前提是，计算机能够生成语言。\n",
    "\n",
    "计算机如何能生成语言是一个经典但是又很复杂的问题。 我们课程上为大家介绍的是一种基于规则（Rule Based）的生成方法。该方法虽然提出的时间早，但是现在依然在很多地方能够大显身手。值得说明的是，现在很多很实用的算法，都是很久之前提出的，例如，二分查找提出与1940s, Dijstra算法提出于1960s 等等。"
   ]
  },
  {
   "cell_type": "markdown",
   "metadata": {},
   "source": [
    "在著名的电视剧，电影《西部世界》中，这些机器人们语言生成的方法就是使用的SyntaxTree生成语言的方法。\n",
    "\n",
    "> \n",
    ">\n",
    "\n",
    "![WstWorld](https://timgsa.baidu.com/timg?image&quality=80&size=b10000_10000&sec=1561818705&di=95ca9ff2ff37fcb88ae47b82c7079feb&src=http://s7.sinaimg.cn/mw690/006BKUGwzy75VK46FMi66&690)\n",
    "\n",
    "> \n",
    ">"
   ]
  },
  {
   "cell_type": "markdown",
   "metadata": {},
   "source": [
    "在这一部分，需要各位同学首先定义自己的语言。 大家可以先想一个应用场景，然后在这个场景下，定义语法。例如：\n",
    "\n",
    "在西部世界里，一个”人类“的语言可以定义为：\n",
    "``` \n",
    "human = \"\"\"\n",
    "human = 自己 寻找 活动\n",
    "自己 = 我 | 俺 | 我们 \n",
    "寻找 = 看看 | 找找 | 想找点\n",
    "活动 = 乐子 | 玩的\n",
    "\"\"\"\n",
    "```\n",
    "\n",
    "一个“接待员”的语言可以定义为\n",
    "```\n",
    "host = \"\"\"\n",
    "host = 寒暄 报数 询问 业务相关 结尾 \n",
    "报数 = 我是 数字 号 ,\n",
    "数字 = 单个数字 | 数字 单个数字 \n",
    "单个数字 = 1 | 2 | 3 | 4 | 5 | 6 | 7 | 8 | 9 \n",
    "寒暄 = 称谓 打招呼 | 打招呼\n",
    "称谓 = 人称 ,\n",
    "人称 = 先生 | 女士 | 小朋友\n",
    "打招呼 = 你好 | 您好 \n",
    "询问 = 请问你要 | 您需要\n",
    "业务相关 = 玩玩 具体业务\n",
    "玩玩 = 耍一耍 | 玩一玩\n",
    "具体业务 = 喝酒 | 打牌 | 打猎 | 赌博\n",
    "结尾 = 吗？\"\"\"\n",
    "\n",
    "```\n",
    "\n",
    "\n"
   ]
  },
  {
   "cell_type": "markdown",
   "metadata": {},
   "source": [
    "请定义你自己的语法: "
   ]
  },
  {
   "cell_type": "markdown",
   "metadata": {},
   "source": [
    "第一个语法："
   ]
  },
  {
   "cell_type": "code",
   "execution_count": 2,
   "metadata": {},
   "outputs": [],
   "source": [
    "host = '''\n",
    "host = 寒暄 报数 询问 业务相关 结尾 \n",
    "报数 = 我是 数字 号 ,\n",
    "数字 = 单个数字 | 数字 单个数字 \n",
    "单个数字 = 1 | 2 | 3 | 4 | 5 | 6 | 7 | 8 | 9 \n",
    "寒暄 = 称谓 打招呼 | 打招呼\n",
    "称谓 = 人称 ,\n",
    "人称 = 先生 | 女士 | 小朋友\n",
    "打招呼 = 你好 | 您好 \n",
    "询问 = 请问你要 | 您需要\n",
    "业务相关 = 玩玩 具体业务\n",
    "玩玩 = 耍一耍 | 玩一玩\n",
    "具体业务 = 喝酒 | 打牌 | 打猎 | 赌博\n",
    "结尾 = 吗？\n",
    "'''"
   ]
  },
  {
   "cell_type": "markdown",
   "metadata": {},
   "source": [
    "第二个语法："
   ]
  },
  {
   "cell_type": "code",
   "execution_count": 50,
   "metadata": {},
   "outputs": [],
   "source": [
    "opinion = '''\n",
    "opinion = 人称 主观动词 代词 be动词 量词 形容词* 名词\n",
    "人称 = 我 | 你 | 他 | 她 | 我们 | 你们 |他们\n",
    "主观动词 = 认为 | 猜测 | 保证 | 确定 \n",
    "代词 = 这个 | 那个 \n",
    "be动词 = 是 | 不是 | 像 | 不像\n",
    "量词 = 一个 | 一辆 | 一栋 | 一位 | 一桶 | 一架\n",
    "形容词 = 蓝蓝的 | 好看的 | 无聊的 | 猥琐的 | 佛系的\n",
    "形容词* = null | 形容词 形容词*\n",
    "名词 = 人 | 树 | 镜子 | 电脑 | 大叔 | 小姐姐\n",
    "'''"
   ]
  },
  {
   "cell_type": "markdown",
   "metadata": {},
   "source": [
    "TODO: 然后，使用自己之前定义的generate函数，使用此函数生成句子。"
   ]
  },
  {
   "cell_type": "code",
   "execution_count": 51,
   "metadata": {},
   "outputs": [],
   "source": [
    "import random\n",
    "\n",
    "def create_grammar(grammar_str, split='=', line_split='\\n'):\n",
    "    grammar = {}\n",
    "    for line in grammar_str.split(line_split):\n",
    "        if not line.strip(): continue\n",
    "        exp, stmt = line.split(split)\n",
    "        grammar[exp.strip()] = [s.split() for s in stmt.split(\"|\")]\n",
    "    return grammar"
   ]
  },
  {
   "cell_type": "code",
   "execution_count": 52,
   "metadata": {},
   "outputs": [
    {
     "data": {
      "text/plain": [
       "{'opinion': [['人称', '主观动词', '代词', 'be动词', '量词', '形容词*', '名词']],\n",
       " '人称': [['我'], ['你'], ['他'], ['她'], ['我们'], ['你们'], ['他们']],\n",
       " '主观动词': [['认为'], ['猜测'], ['保证'], ['确定']],\n",
       " '代词': [['这个'], ['那个']],\n",
       " 'be动词': [['是'], ['不是'], ['像'], ['不像']],\n",
       " '量词': [['一个'], ['一辆'], ['一栋'], ['一位'], ['一桶'], ['一架']],\n",
       " '形容词': [['蓝蓝的'], ['好看的'], ['无聊的'], ['猥琐的'], ['佛系的']],\n",
       " '形容词*': [['null'], ['形容词', '形容词*']],\n",
       " '名词': [['人'], ['树'], ['镜子'], ['电脑'], ['大叔'], ['小姐姐']]}"
      ]
     },
     "execution_count": 52,
     "metadata": {},
     "output_type": "execute_result"
    }
   ],
   "source": [
    "create_grammar(opinion)"
   ]
  },
  {
   "cell_type": "code",
   "execution_count": 53,
   "metadata": {},
   "outputs": [],
   "source": [
    "def generate(gram, target):\n",
    "    if target not in gram: return target # means target is a terminal expression\n",
    "    \n",
    "    expaned = [generate(gram, t) for t in random.choice(gram[target])]\n",
    "    return ''.join([e if e != '/n' else '\\n' for e in expaned if e != 'null'])"
   ]
  },
  {
   "cell_type": "code",
   "execution_count": 54,
   "metadata": {},
   "outputs": [
    {
     "data": {
      "text/plain": [
       "'他们确定这个不像一位树'"
      ]
     },
     "execution_count": 54,
     "metadata": {},
     "output_type": "execute_result"
    }
   ],
   "source": [
    "generate(create_grammar(opinion),\"opinion\")"
   ]
  },
  {
   "cell_type": "markdown",
   "metadata": {},
   "source": [
    "TODO: 然后，定义一个函数，generate_n，将generate扩展，使其能够生成n个句子:"
   ]
  },
  {
   "cell_type": "code",
   "execution_count": 55,
   "metadata": {},
   "outputs": [],
   "source": [
    "def generate_n(n,gram,target):\n",
    "    for i in range(n):\n",
    "        print(generate(gram,target))\n"
   ]
  },
  {
   "cell_type": "code",
   "execution_count": 56,
   "metadata": {},
   "outputs": [
    {
     "name": "stdout",
     "output_type": "stream",
     "text": [
      "你们确定那个不像一栋佛系的人\n",
      "你们确定那个是一桶好看的镜子\n",
      "他认为那个不是一位电脑\n",
      "他保证那个不是一个蓝蓝的小姐姐\n",
      "你们猜测那个不是一架佛系的无聊的好看的好看的佛系的树\n",
      "我认为那个像一栋小姐姐\n",
      "我们确定那个不是一架佛系的好看的人\n",
      "你猜测那个像一栋树\n",
      "我们确定那个是一辆蓝蓝的蓝蓝的佛系的无聊的佛系的大叔\n",
      "她确定那个像一桶人\n",
      "他确定这个不像一架大叔\n",
      "他认为这个不像一位大叔\n",
      "你确定那个不像一栋大叔\n",
      "他认为这个不是一个猥琐的镜子\n",
      "你确定这个像一栋猥琐的佛系的人\n",
      "他们认为这个像一个好看的大叔\n",
      "你猜测这个不是一个佛系的佛系的佛系的大叔\n",
      "他认为那个不像一辆猥琐的蓝蓝的镜子\n",
      "你们猜测那个不是一栋大叔\n",
      "我猜测那个不像一桶猥琐的蓝蓝的好看的无聊的猥琐的镜子\n"
     ]
    }
   ],
   "source": [
    "generate_n(20,create_grammar(opinion),\"opinion\")"
   ]
  },
  {
   "cell_type": "markdown",
   "metadata": {},
   "source": [
    ">"
   ]
  },
  {
   "cell_type": "markdown",
   "metadata": {},
   "source": [
    "#### 2. 使用新数据源完成语言模型的训练"
   ]
  },
  {
   "cell_type": "markdown",
   "metadata": {},
   "source": [
    "按照我们上文中定义的`prob_2`函数，我们更换一个文本数据源，获得新的Language Model:\n",
    "\n",
    "1. 下载文本数据集（你可以在以下数据集中任选一个，也可以两个都使用）\n",
    "    + 可选数据集1，保险行业问询对话集： https://github.com/Computing-Intelligence/insuranceqa-corpus-zh/raw/release/corpus/pool/train.txt.gz\n",
    "    + 可选数据集2：豆瓣评论数据集：https://github.com/Computing-Intelligence/datasource/raw/master/movie_comments.csv\n",
    "2. 修改代码，获得新的**2-gram**语言模型\n",
    "    + 进行文本清洗，获得所有的纯文本\n",
    "    + 将这些文本进行切词\n",
    "    + 送入之前定义的语言模型中，判断文本的合理程度"
   ]
  },
  {
   "cell_type": "code",
   "execution_count": 11,
   "metadata": {},
   "outputs": [
    {
     "ename": "LookupError",
     "evalue": "unknown encoding: unicode",
     "output_type": "error",
     "traceback": [
      "\u001b[0;31m---------------------------------------------------------------------------\u001b[0m",
      "\u001b[0;31mLookupError\u001b[0m                               Traceback (most recent call last)",
      "\u001b[0;32m<ipython-input-11-f9eea1510a4f>\u001b[0m in \u001b[0;36m<module>\u001b[0;34m\u001b[0m\n\u001b[1;32m      4\u001b[0m \u001b[0;34m\u001b[0m\u001b[0m\n\u001b[1;32m      5\u001b[0m \u001b[0mfilename\u001b[0m \u001b[0;34m=\u001b[0m \u001b[0;34m\"movie_comments.csv\"\u001b[0m\u001b[0;34m\u001b[0m\u001b[0;34m\u001b[0m\u001b[0m\n\u001b[0;32m----> 6\u001b[0;31m \u001b[0mcontent\u001b[0m \u001b[0;34m=\u001b[0m \u001b[0mpd\u001b[0m\u001b[0;34m.\u001b[0m\u001b[0mread_csv\u001b[0m\u001b[0;34m(\u001b[0m\u001b[0mos\u001b[0m\u001b[0;34m.\u001b[0m\u001b[0mgetcwd\u001b[0m\u001b[0;34m(\u001b[0m\u001b[0;34m)\u001b[0m \u001b[0;34m+\u001b[0m \u001b[0;34m\"/\"\u001b[0m \u001b[0;34m+\u001b[0m \u001b[0mfilename\u001b[0m\u001b[0;34m,\u001b[0m\u001b[0mencoding\u001b[0m \u001b[0;34m=\u001b[0m \u001b[0;34m\"unicode\"\u001b[0m\u001b[0;34m)\u001b[0m\u001b[0;34m\u001b[0m\u001b[0;34m\u001b[0m\u001b[0m\n\u001b[0m",
      "\u001b[0;32m~/anaconda3/lib/python3.7/site-packages/pandas/io/parsers.py\u001b[0m in \u001b[0;36mparser_f\u001b[0;34m(filepath_or_buffer, sep, delimiter, header, names, index_col, usecols, squeeze, prefix, mangle_dupe_cols, dtype, engine, converters, true_values, false_values, skipinitialspace, skiprows, skipfooter, nrows, na_values, keep_default_na, na_filter, verbose, skip_blank_lines, parse_dates, infer_datetime_format, keep_date_col, date_parser, dayfirst, iterator, chunksize, compression, thousands, decimal, lineterminator, quotechar, quoting, doublequote, escapechar, comment, encoding, dialect, tupleize_cols, error_bad_lines, warn_bad_lines, delim_whitespace, low_memory, memory_map, float_precision)\u001b[0m\n\u001b[1;32m    700\u001b[0m                     skip_blank_lines=skip_blank_lines)\n\u001b[1;32m    701\u001b[0m \u001b[0;34m\u001b[0m\u001b[0m\n\u001b[0;32m--> 702\u001b[0;31m         \u001b[0;32mreturn\u001b[0m \u001b[0m_read\u001b[0m\u001b[0;34m(\u001b[0m\u001b[0mfilepath_or_buffer\u001b[0m\u001b[0;34m,\u001b[0m \u001b[0mkwds\u001b[0m\u001b[0;34m)\u001b[0m\u001b[0;34m\u001b[0m\u001b[0;34m\u001b[0m\u001b[0m\n\u001b[0m\u001b[1;32m    703\u001b[0m \u001b[0;34m\u001b[0m\u001b[0m\n\u001b[1;32m    704\u001b[0m     \u001b[0mparser_f\u001b[0m\u001b[0;34m.\u001b[0m\u001b[0m__name__\u001b[0m \u001b[0;34m=\u001b[0m \u001b[0mname\u001b[0m\u001b[0;34m\u001b[0m\u001b[0;34m\u001b[0m\u001b[0m\n",
      "\u001b[0;32m~/anaconda3/lib/python3.7/site-packages/pandas/io/parsers.py\u001b[0m in \u001b[0;36m_read\u001b[0;34m(filepath_or_buffer, kwds)\u001b[0m\n\u001b[1;32m    427\u001b[0m \u001b[0;34m\u001b[0m\u001b[0m\n\u001b[1;32m    428\u001b[0m     \u001b[0;31m# Create the parser.\u001b[0m\u001b[0;34m\u001b[0m\u001b[0;34m\u001b[0m\u001b[0;34m\u001b[0m\u001b[0m\n\u001b[0;32m--> 429\u001b[0;31m     \u001b[0mparser\u001b[0m \u001b[0;34m=\u001b[0m \u001b[0mTextFileReader\u001b[0m\u001b[0;34m(\u001b[0m\u001b[0mfilepath_or_buffer\u001b[0m\u001b[0;34m,\u001b[0m \u001b[0;34m**\u001b[0m\u001b[0mkwds\u001b[0m\u001b[0;34m)\u001b[0m\u001b[0;34m\u001b[0m\u001b[0;34m\u001b[0m\u001b[0m\n\u001b[0m\u001b[1;32m    430\u001b[0m \u001b[0;34m\u001b[0m\u001b[0m\n\u001b[1;32m    431\u001b[0m     \u001b[0;32mif\u001b[0m \u001b[0mchunksize\u001b[0m \u001b[0;32mor\u001b[0m \u001b[0miterator\u001b[0m\u001b[0;34m:\u001b[0m\u001b[0;34m\u001b[0m\u001b[0;34m\u001b[0m\u001b[0m\n",
      "\u001b[0;32m~/anaconda3/lib/python3.7/site-packages/pandas/io/parsers.py\u001b[0m in \u001b[0;36m__init__\u001b[0;34m(self, f, engine, **kwds)\u001b[0m\n\u001b[1;32m    893\u001b[0m             \u001b[0mself\u001b[0m\u001b[0;34m.\u001b[0m\u001b[0moptions\u001b[0m\u001b[0;34m[\u001b[0m\u001b[0;34m'has_index_names'\u001b[0m\u001b[0;34m]\u001b[0m \u001b[0;34m=\u001b[0m \u001b[0mkwds\u001b[0m\u001b[0;34m[\u001b[0m\u001b[0;34m'has_index_names'\u001b[0m\u001b[0;34m]\u001b[0m\u001b[0;34m\u001b[0m\u001b[0;34m\u001b[0m\u001b[0m\n\u001b[1;32m    894\u001b[0m \u001b[0;34m\u001b[0m\u001b[0m\n\u001b[0;32m--> 895\u001b[0;31m         \u001b[0mself\u001b[0m\u001b[0;34m.\u001b[0m\u001b[0m_make_engine\u001b[0m\u001b[0;34m(\u001b[0m\u001b[0mself\u001b[0m\u001b[0;34m.\u001b[0m\u001b[0mengine\u001b[0m\u001b[0;34m)\u001b[0m\u001b[0;34m\u001b[0m\u001b[0;34m\u001b[0m\u001b[0m\n\u001b[0m\u001b[1;32m    896\u001b[0m \u001b[0;34m\u001b[0m\u001b[0m\n\u001b[1;32m    897\u001b[0m     \u001b[0;32mdef\u001b[0m \u001b[0mclose\u001b[0m\u001b[0;34m(\u001b[0m\u001b[0mself\u001b[0m\u001b[0;34m)\u001b[0m\u001b[0;34m:\u001b[0m\u001b[0;34m\u001b[0m\u001b[0;34m\u001b[0m\u001b[0m\n",
      "\u001b[0;32m~/anaconda3/lib/python3.7/site-packages/pandas/io/parsers.py\u001b[0m in \u001b[0;36m_make_engine\u001b[0;34m(self, engine)\u001b[0m\n\u001b[1;32m   1120\u001b[0m     \u001b[0;32mdef\u001b[0m \u001b[0m_make_engine\u001b[0m\u001b[0;34m(\u001b[0m\u001b[0mself\u001b[0m\u001b[0;34m,\u001b[0m \u001b[0mengine\u001b[0m\u001b[0;34m=\u001b[0m\u001b[0;34m'c'\u001b[0m\u001b[0;34m)\u001b[0m\u001b[0;34m:\u001b[0m\u001b[0;34m\u001b[0m\u001b[0;34m\u001b[0m\u001b[0m\n\u001b[1;32m   1121\u001b[0m         \u001b[0;32mif\u001b[0m \u001b[0mengine\u001b[0m \u001b[0;34m==\u001b[0m \u001b[0;34m'c'\u001b[0m\u001b[0;34m:\u001b[0m\u001b[0;34m\u001b[0m\u001b[0;34m\u001b[0m\u001b[0m\n\u001b[0;32m-> 1122\u001b[0;31m             \u001b[0mself\u001b[0m\u001b[0;34m.\u001b[0m\u001b[0m_engine\u001b[0m \u001b[0;34m=\u001b[0m \u001b[0mCParserWrapper\u001b[0m\u001b[0;34m(\u001b[0m\u001b[0mself\u001b[0m\u001b[0;34m.\u001b[0m\u001b[0mf\u001b[0m\u001b[0;34m,\u001b[0m \u001b[0;34m**\u001b[0m\u001b[0mself\u001b[0m\u001b[0;34m.\u001b[0m\u001b[0moptions\u001b[0m\u001b[0;34m)\u001b[0m\u001b[0;34m\u001b[0m\u001b[0;34m\u001b[0m\u001b[0m\n\u001b[0m\u001b[1;32m   1123\u001b[0m         \u001b[0;32melse\u001b[0m\u001b[0;34m:\u001b[0m\u001b[0;34m\u001b[0m\u001b[0;34m\u001b[0m\u001b[0m\n\u001b[1;32m   1124\u001b[0m             \u001b[0;32mif\u001b[0m \u001b[0mengine\u001b[0m \u001b[0;34m==\u001b[0m \u001b[0;34m'python'\u001b[0m\u001b[0;34m:\u001b[0m\u001b[0;34m\u001b[0m\u001b[0;34m\u001b[0m\u001b[0m\n",
      "\u001b[0;32m~/anaconda3/lib/python3.7/site-packages/pandas/io/parsers.py\u001b[0m in \u001b[0;36m__init__\u001b[0;34m(self, src, **kwds)\u001b[0m\n\u001b[1;32m   1851\u001b[0m         \u001b[0mkwds\u001b[0m\u001b[0;34m[\u001b[0m\u001b[0;34m'usecols'\u001b[0m\u001b[0;34m]\u001b[0m \u001b[0;34m=\u001b[0m \u001b[0mself\u001b[0m\u001b[0;34m.\u001b[0m\u001b[0musecols\u001b[0m\u001b[0;34m\u001b[0m\u001b[0;34m\u001b[0m\u001b[0m\n\u001b[1;32m   1852\u001b[0m \u001b[0;34m\u001b[0m\u001b[0m\n\u001b[0;32m-> 1853\u001b[0;31m         \u001b[0mself\u001b[0m\u001b[0;34m.\u001b[0m\u001b[0m_reader\u001b[0m \u001b[0;34m=\u001b[0m \u001b[0mparsers\u001b[0m\u001b[0;34m.\u001b[0m\u001b[0mTextReader\u001b[0m\u001b[0;34m(\u001b[0m\u001b[0msrc\u001b[0m\u001b[0;34m,\u001b[0m \u001b[0;34m**\u001b[0m\u001b[0mkwds\u001b[0m\u001b[0;34m)\u001b[0m\u001b[0;34m\u001b[0m\u001b[0;34m\u001b[0m\u001b[0m\n\u001b[0m\u001b[1;32m   1854\u001b[0m         \u001b[0mself\u001b[0m\u001b[0;34m.\u001b[0m\u001b[0munnamed_cols\u001b[0m \u001b[0;34m=\u001b[0m \u001b[0mself\u001b[0m\u001b[0;34m.\u001b[0m\u001b[0m_reader\u001b[0m\u001b[0;34m.\u001b[0m\u001b[0munnamed_cols\u001b[0m\u001b[0;34m\u001b[0m\u001b[0;34m\u001b[0m\u001b[0m\n\u001b[1;32m   1855\u001b[0m \u001b[0;34m\u001b[0m\u001b[0m\n",
      "\u001b[0;32mpandas/_libs/parsers.pyx\u001b[0m in \u001b[0;36mpandas._libs.parsers.TextReader.__cinit__\u001b[0;34m()\u001b[0m\n",
      "\u001b[0;32mpandas/_libs/parsers.pyx\u001b[0m in \u001b[0;36mpandas._libs.parsers.TextReader._get_header\u001b[0;34m()\u001b[0m\n",
      "\u001b[0;31mLookupError\u001b[0m: unknown encoding: unicode"
     ]
    }
   ],
   "source": [
    "import random\n",
    "import os\n",
    "import pandas as pd\n",
    "\n",
    "filename = \"movie_comments.csv\"\n",
    "content = pd.read_csv(os.getcwd() + \"/\" + filename,encoding = \"unicode\")"
   ]
  },
  {
   "cell_type": "code",
   "execution_count": 6,
   "metadata": {},
   "outputs": [
    {
     "data": {
      "text/html": [
       "<div>\n",
       "<style scoped>\n",
       "    .dataframe tbody tr th:only-of-type {\n",
       "        vertical-align: middle;\n",
       "    }\n",
       "\n",
       "    .dataframe tbody tr th {\n",
       "        vertical-align: top;\n",
       "    }\n",
       "\n",
       "    .dataframe thead th {\n",
       "        text-align: right;\n",
       "    }\n",
       "</style>\n",
       "<table border=\"1\" class=\"dataframe\">\n",
       "  <thead>\n",
       "    <tr style=\"text-align: right;\">\n",
       "      <th></th>\n",
       "      <th></th>\n",
       "      <th></th>\n",
       "      <th></th>\n",
       "      <th>bplist00Л\u0001\u0002_\u0010\u000fWebMainResourceН\u0003\u0004\u0005\u0006\u0007\b</th>\n",
       "    </tr>\n",
       "  </thead>\n",
       "  <tbody>\n",
       "    <tr>\n",
       "      <th>_\u0010\u0013WebResourceMIMEType_\u0010\u001bWebResourceTextEncodingName^WebResourceURL_\u0010\u0014WebResourceFrameName_\u0010\u000fWebResourceDataZtext/plainUUTF-8_\u0010]https://raw.githubusercontent.com/Computing-Intelligence/datasource/master/movie_comments.csvPO\u0012\u0002к┐о&lt;html&gt;&lt;head&gt;&lt;/head&gt;&lt;body&gt;&lt;pre style=\"word-wrap: break-word; white-space: pre-wrap;\"&gt;id</th>\n",
       "      <th>link</th>\n",
       "      <th>name</th>\n",
       "      <th>comment</th>\n",
       "      <td>star</td>\n",
       "    </tr>\n",
       "    <tr>\n",
       "      <th>1</th>\n",
       "      <th>https://movie.douban.com/subject/26363254/</th>\n",
       "      <th>ТѕўуІ╝2</th>\n",
       "      <th>тљ┤С║гТёЈТиФтѕ░С║єУёЉТ«Іуџётю░ТГЦ№╝їуюІС║єТЂХт┐ЃТЃ│тљљ</th>\n",
       "      <td>1</td>\n",
       "    </tr>\n",
       "    <tr>\n",
       "      <th>2</th>\n",
       "      <th>https://movie.douban.com/subject/26363254/</th>\n",
       "      <th>ТѕўуІ╝2</th>\n",
       "      <th>ждќТўауц╝уюІуџёсђѓтцфТЂљТђќС║єУ┐ЎСИфућхтй▒№╝їСИЇУ«▓жЂЊуљєуџё№╝їт«їтЁет░▒Тў»тљ┤С║гтюет«ъуј░С╗ќУ┐ЎСИфт░Ју▓Ѕу║буџёУІ▒жЏёТбдсђѓтљёуДЇУБЁтцЄУй«уЋфСИітю║№╝їУДєуЅЕуљєжђ╗УЙЉС║јСИЇжАЙ№╝їСИЇтЙЌСИЇУ»┤ТюЅжњ▒уюЪтЦй№╝їжџЈТёЈУЃАжЌ╣</th>\n",
       "      <td>2</td>\n",
       "    </tr>\n",
       "    <tr>\n",
       "      <th>3</th>\n",
       "      <th>https://movie.douban.com/subject/26363254/</th>\n",
       "      <th>ТѕўуІ╝2</th>\n",
       "      <th>тљ┤С║гуџёуѓњСйюТ░┤т╣│СИЇУЙЊтє»т░Јтѕџ№╝їСйєт░ЈтѕџУЄ│т░ЉСИЇС╝џућеСИ╗ТЌІтЙІТЮЦуѓњСйюРђдтљ┤С║гУ«ЕС║║уюІС║єСИЇУѕњТюЇ№╝їСИ║С║єСИ╗ТЌІтЙІУђїСИ╗ТЌІтЙІ№╝їСИ║С║єуЁйТЃЁУђїуЁйТЃЁ№╝їУ«ЕС║║УДЅтЙЌС╗ќТў»СИфтцДтЂџСйюсђЂтцДУ░јУеђт«Хсђѓ№╝ѕ7.29ТЏ┤Тќ░№╝ЅуЅЄтГљТЋ┤СйЊСИЇтдѓТ╣ётЁгТ▓│УАїтіе№╝ї1.ТЋ┤СйЊСИЇтцЪТхЂуЋЁ№╝їу╝ќтЅДТюЅТ»њ№╝їтЈ░У»Їт░┤т░г№╝Џ2.тѕ╗ТёЈтЂџСйюуџёСИ╗ТЌІтЙІуЁйТЃЁТўЙтЙЌтдѓТГцСИЇтљѕТЌХт«юУђїтЈѕтцџСйЎсђѓ</th>\n",
       "      <td>2</td>\n",
       "    </tr>\n",
       "    <tr>\n",
       "      <th>4</th>\n",
       "      <th>https://movie.douban.com/subject/26363254/</th>\n",
       "      <th>ТѕўуІ╝2</th>\n",
       "      <th>тЄГУЅ»т┐ЃУ»┤№╝їтЦйуюІтѕ░СИЇтЃЈсђіТѕўуІ╝1сђІуџёу╗ГжЏє№╝їт«їУЎљсђіТ╣ётЁгТ▓│УАїтіесђІсђѓ</th>\n",
       "      <td>4</td>\n",
       "    </tr>\n",
       "    <tr>\n",
       "      <th>5</th>\n",
       "      <th>https://movie.douban.com/subject/26363254/</th>\n",
       "      <th>ТѕўуІ╝2</th>\n",
       "      <th>СИГС║їтЙЌтЙѕ</th>\n",
       "      <td>1</td>\n",
       "    </tr>\n",
       "    <tr>\n",
       "      <th>6</th>\n",
       "      <th>https://movie.douban.com/subject/26363254/</th>\n",
       "      <th>ТѕўуІ╝2</th>\n",
       "      <th>Рђюуі»ТѕЉСИГтЇјУђЁ№╝їУЎйУ┐ют┐ЁУ»ЏРђЮ№╝їтљ┤С║гТ»ћУ┐ЎтЈЦУ»ЮУ┐ўУдЂТёЈТиФСИђуЎЙтђЇсђѓ</th>\n",
       "      <td>1</td>\n",
       "    </tr>\n",
       "    <tr>\n",
       "      <th>7</th>\n",
       "      <th>https://movie.douban.com/subject/26363254/</th>\n",
       "      <th>ТѕўуІ╝2</th>\n",
       "      <th>УёЉтГљТў»СИфтЦйСИюУЦ┐№╝їтИїТюЏу╝ќтЅДС╗гжЃйУЃйТюЅсђѓ</th>\n",
       "      <td>2</td>\n",
       "    </tr>\n",
       "    <tr>\n",
       "      <th>8</th>\n",
       "      <th>https://movie.douban.com/subject/26363254/</th>\n",
       "      <th>ТѕўуІ╝2</th>\n",
       "      <th>СИЅТўЪтЇі№╝їт«ъТЅЊт«ъуџё7тѕєсђѓуггСИђжЏєтюеуѕ▒тЏйСИ╗ТЌІтЙІтєЁжЃетЂџуЮђтљёуДЇуй«ТЇбСИјУЙЃті▓№╝їСйєуггС║їжЏєТЅЇуюЪТГБТўЙжю▓тљ┤С║гуџёжЄјт┐Ѓ№╝їС╗ќу╗ѕС║јТіЏт╝ЃТЮјт┐ат┐ЌС║є№╝їТќ░тбътцќТЮЦуЈГт║ЋУ«ЕуАгС╗Хт«ътіЏТюЅТю║С╝џтњїтЏйжЎЁТјЦУйе№╝їт╝ђу»ЄТ░┤СИІжЋ┐жЋютц┤тњїУ»ИтдѓжЊЂСИЮуйЉТІдТѕфRPGт╝╣тц┤уџёу╗єУіѓУ«ЙУ«АжЃйУ«ЕтЏйС║ДтіеСйюуЅЄжЄЇТќ░т░ЂжАХ№╝їтюеуљєт┐хСИі№╝їт«ЃућџУЄ│тЂџтѕ░сђіу╗БТўЦтѕђ2сђІТюђТЃ│тЂџтѕ░уџёжѓБжЃетѕєсђѓ</th>\n",
       "      <td>4</td>\n",
       "    </tr>\n",
       "    <tr>\n",
       "      <th>9</th>\n",
       "      <th>https://movie.douban.com/subject/26363254/</th>\n",
       "      <th>ТѕўуІ╝2</th>\n",
       "      <th>т╝ђу»ЄжЋ┐жЋютц┤ТЃіжЎЕтцДТ░ћт╝ЋС║║тЁЦУЃю у╗ЊтљѕС║єТ░┤т╣│СИЇС┐Ќуџёт┐ФтЅфСИІт«ъТЅЊт«ъуџёуюЪтѕђуюЪТъф У«ЕС║║СИЇудЂуЃГУАђТ▓ИУЁЙ уЅ╣тѕФт╝╣у░Дт║іТъХТїАуѓИт╝╣ уЕ║ТЅІТјЦубјуј╗уњЃ т╝╣тїБтЅ▓тќЅуГЅтИЁтЙЌжБъУхи№╝Ђт░▒у«ЌтЅЇтЇіТ«хжЊ║тъФУіѓтЦЈТЋБТ╝ФСИ╗УДњтЁЅуј»т╝ђтцфтцДуГЅС╣ЪСИЇТђЋ СйюСИ║СИђСИфСИГтЏйС║║ СИцСИфт░ЈТЌХт╝ЦТ╝ФуЮђСИГтЏйт╝║тцДтЙЌСИЇтЈ»СЙхуі»уџёТ░ЏтЏ┤ У┐ўТў»У«ЕжѓБжбЌТ░ЉТЌЈУЄфУ▒фт┐Ѓуа░уа░уа░Уи│СИфСИЇтЂюсђѓ</th>\n",
       "      <td>4</td>\n",
       "    </tr>\n",
       "    <tr>\n",
       "      <th>10</th>\n",
       "      <th>https://movie.douban.com/subject/26363254/</th>\n",
       "      <th>ТѕўуІ╝2</th>\n",
       "      <th>15/100тљ┤С║гуџётєит│░тюеУ┐ЎжЃежЄїтЇ│тЃЈТѕљжЙЎ№╝їтЈѕтЃЈТЮ░ТБ«Тќ»тЮдТБ«№╝їСйєСйЊтѕХтцќуџётљїу▒╗тъІућхтй▒№╝їСИ╗УДњТђ╗Тў»С╗БУАеСИфС║║№╝їТЌаУЃйуџёТћ┐т║южюђУдЂТ▒ѓтіЕС║јУ┐ЎС║ЏУІ▒жЏёТЅЇУЃйУДБтє│жџЙжбў№╝їСйЊуј░уџёТў»СИфС║║уџёС╗итђ╝№╝їТЅђС╗ЦСИ╗ТЌІтЙІуЁДТіёУ┐ЎуДЇТеАт╝Јт«ъжЎЁСИіТў»ТюЅжЌ«жбўуџёсђѓТѕЉС╗гС╗ЦтЅЇтў▓угЉСИфС║║УІ▒жЏёСИ╗С╣Ѕ№╝їтЇ┤Т▓АТЃ│тѕ░ТЇєу╗Љуѕ▒тЏйСИ╗С╣ЅуџётЁеУЃйТѕўтБФТЏ┤тіажџЙС╗ЦСИІтњйсђѓ</th>\n",
       "      <td>1</td>\n",
       "    </tr>\n",
       "    <tr>\n",
       "      <th>11</th>\n",
       "      <th>https://movie.douban.com/subject/26363254/</th>\n",
       "      <th>ТѕўуІ╝2</th>\n",
       "      <th>уі»ТѕЉСИГтЇјУђЁУЎйУ┐ют┐ЁУ»Џ№╝їТў»ТюЅтцџТЌаУёЉТЅЇС┐АУ┐ЎтЈЦУ»Юсђѓ</th>\n",
       "      <td>1</td>\n",
       "    </tr>\n",
       "    <tr>\n",
       "      <th>12</th>\n",
       "      <th>https://movie.douban.com/subject/26363254/</th>\n",
       "      <th>ТѕўуІ╝2</th>\n",
       "      <th>У┐ЎжЃеТѕЈУ«ЕС║║уюІуџёуЃГУАђТ▓ИУЁЙ№╝їт»╣тљ┤С║гУи»Уйгу▓Ѕ№╝їТюђтљјуџётйЕУЏІ№╝їУ«ЕТѕЉС╗гТ▓АТюЅуљєућ▒СИЇТюЪтЙЁСИІСИђжЃесђѓ</th>\n",
       "      <td>4</td>\n",
       "    </tr>\n",
       "    <tr>\n",
       "      <th>13</th>\n",
       "      <th>https://movie.douban.com/subject/26363254/</th>\n",
       "      <th>ТѕўуІ╝2</th>\n",
       "      <th>тЂЄтЌе№╝їуЅ╣тѕФТЂХт┐Ѓуџёућхтй▒сђѓ</th>\n",
       "      <td>1</td>\n",
       "    </tr>\n",
       "    <tr>\n",
       "      <th>14</th>\n",
       "      <th>https://movie.douban.com/subject/26363254/</th>\n",
       "      <th>ТѕўуІ╝2</th>\n",
       "      <th>ТюЅтЄатцёТЃЁУіѓУ«Йуй«У┐ЄС║јт░┤т░г№╝їтй░ТўЙтЏйт«ХУЄфУ▒фТёЪуџёжЃетѕєуеЇТўЙуфЂтЁђсђѓ</th>\n",
       "      <td>2</td>\n",
       "    </tr>\n",
       "    <tr>\n",
       "      <th>15</th>\n",
       "      <th>https://movie.douban.com/subject/26363254/</th>\n",
       "      <th>ТѕўуІ╝2</th>\n",
       "      <th>т░▒Тў»СИђжЃеуѕйуЅЄ№╝їТЅЊТѕЈТї║уЄЃ№╝їСйєТў»ТЋЁС║ІСИђУѕгсђѓУЙЙт║иС╣дУ«░СИЇтљѕжђѓУ┐ЎСИфУДњУЅ▓№╝їУххСИюТЮЦтђњТў»тЙѕтљѕжђѓсђѓт╝ауђџтцфтцфтцфУ┐ЮтњїС║є№╝їтѕєтѕєжњЪуЕ┐УХітЏътЂХтЃЈтЅДсђѓ</th>\n",
       "      <td>2</td>\n",
       "    </tr>\n",
       "    <tr>\n",
       "      <th>16</th>\n",
       "      <th>https://movie.douban.com/subject/26363254/</th>\n",
       "      <th>ТѕўуІ╝2</th>\n",
       "      <th>УххСИюТЮЦ№╝џУЙЙт║иС╣дУ«░№╝їТѕЉС╗гТјЦтѕ░тюежЮъТ┤▓тЇДт║ЋуџётєижћІТіЦтЉі№╝їСИЂС╣ЅуЈЇуј░тюежЮъТ┤▓№╝їТѕЉС╗гУ»иТ▒ѓТіЊТЇЋсђѓТЮјУЙЙт║и№╝џСИюТЮЦ№╝їУ┐ЎС╗ХС║ІтЁѕСИЇУдЂтБ░т╝а№╝їуЅ╣тѕФТў»тѕФУ«ЕуюЂтјЁуЪЦжЂЊ№╝їт░▒СйатњїТѕЉСИђУхитј╗жЮъТ┤▓№╝їтіаСИітєижћІтљїт┐Ќ№╝їСИЅС║║жђ«ТЇЋСИЂС╣ЅуЈЇсђѓУ┐ЎТгАУАїт░▒тЈФТѕўуІ╝2тљД</th>\n",
       "      <td>5</td>\n",
       "    </tr>\n",
       "    <tr>\n",
       "      <th>17</th>\n",
       "      <th>https://movie.douban.com/subject/26363254/</th>\n",
       "      <th>ТѕўуІ╝2</th>\n",
       "      <th>СИІСИђжЃеТІЇтќютЅДтљД№╝їТЋ┤СИфуЅЄтГљуюЪТёЪУДЅТї║ТљъугЉуџё</th>\n",
       "      <td>2</td>\n",
       "    </tr>\n",
       "    <tr>\n",
       "      <th>18</th>\n",
       "      <th>https://movie.douban.com/subject/26363254/</th>\n",
       "      <th>ТѕўуІ╝2</th>\n",
       "      <th>сђіТѕўуІ╝2сђІжЄїтљ┤С║гУ┐ЎС╣ѕУЃйТЅЊ№╝їС╗ќТЅЊтЙЌУ┐ЄтЙљТЎЊтєгС╣ѕ№╝Ъ</th>\n",
       "      <td>3</td>\n",
       "    </tr>\n",
       "    <tr>\n",
       "      <th>19</th>\n",
       "      <th>https://movie.douban.com/subject/26363254/</th>\n",
       "      <th>ТѕўуІ╝2</th>\n",
       "      <th>т┐ЃтЙђСИђтцёТЃ│№╝їті▓тЙђСИђтцёСй┐№╝їт░▒УЃйт«ъуј░ТѕЉС╗гуџёТбдТЃ│сђѓуюІтљД№╝їТ»ћуггСИђжЃетЦйтцфтцџС║єсђѓУ░бУ░буЙјжўЪуџётіеСйюТїЄт»╝сђѓ</th>\n",
       "      <td>3</td>\n",
       "    </tr>\n",
       "    <tr>\n",
       "      <th>20</th>\n",
       "      <th>https://movie.douban.com/subject/26363254/</th>\n",
       "      <th>ТѕўуІ╝2</th>\n",
       "      <th>У┐ЎжЃйУЃйуЂФсђѓТў»ТѕЉТ▓АУДЂУ»є№╝Ђ</th>\n",
       "      <td>2</td>\n",
       "    </tr>\n",
       "    <tr>\n",
       "      <th>21</th>\n",
       "      <th>https://movie.douban.com/subject/26363254/</th>\n",
       "      <th>ТѕўуІ╝2</th>\n",
       "      <th>т╝ђтц┤уџёТ░┤СИІжЋ┐т»╣тє│ТѕЈтЈ»у«ЌтЇјУ»Гућхтй▒уџёжАХт░ќтГўтюе№╝ЏжЕ▒жђљУѕ░сђЂт»╝т╝╣тњїтЮдтЁІтюетЋєСИџуЅЄжЄїУ┐ЎС╣ѕуІѓућеС╣ЪТў»С║єтЙЌ№╝ЏжЋютц┤У┐љућетњїугЉуѓ╣ТЈњтЁЦжЃйтЙѕтЦйУј▒тЮъуѕєу▒│Уі▒№╝їСИЇтіЪСИЇУ┐Є№╝ЏС╗јтц┤ТЅЊтѕ░т░ЙТў»уюЪТІ╝№╝їУЎйуёХжЋютц┤С╣ЪТюЅуЋЦС╣▒ТЌХ№╝ЏтЏаСИ║Т▓АтЋЦТюЪТюЏтђ╝№╝їТЅђС╗ЦУбФтљ┤С║гуџёжЄјт┐ЃтљЊС║єСИђУи│№╝Џтљ┤тѕџсђЂС║јУ░дтњїСИЂТхит│░УђЂСИЅСйЇтЃЈуѓќуЃѓуєЪуџёуЅЏуГІ№╝їтџ╝уЮђт░▒УѕњТюЇсђѓ</th>\n",
       "      <td>4</td>\n",
       "    </tr>\n",
       "    <tr>\n",
       "      <th>22</th>\n",
       "      <th>https://movie.douban.com/subject/26363254/</th>\n",
       "      <th>ТѕўуІ╝2</th>\n",
       "      <th>тЙѕућет┐ЃтЋітљ┤С║гт»╝Т╝ћ№╝їт░ЈуюІСйаС║є№╝їуА«т«ътюет»╝Т╝ћСИіСИІтіЪтцФС║єТІЅуЅЄтГљС║є№╝їуЪЦжЂЊтђЪжЅ┤Тў»тЦйуџёсђѓУЄ│С║јтцДт«ХТ»ћУЙЃтЈЇТёЪуџёт░Ју▓Ѕу║бТЃЁу╗фТѕЉУДЅтЙЌжѓБС║ЏТАЦТ«хжЃйТў»СИ╗ТЌІтЙІт┐ЁтцЄтЋіТў»уеЇтЙ«ТюЅСИђуѓ╣У┐ЄСйєУ┐ўтЈ»С╗ЦТјЦтЈЌсђѓТюђтЦйуџётю░Тќ╣Тў»тљ┤С║гУіѓтЦЈТјїТЈАтЙЌтЙѕтЦй№╝їуЪЦжЂЊт╝ат╝ЏТюЅт║д№╝їУ┐Ўуѓ╣тЙѕжџЙтЙЌсђѓ</th>\n",
       "      <td>4</td>\n",
       "    </tr>\n",
       "    <tr>\n",
       "      <th>23</th>\n",
       "      <th>https://movie.douban.com/subject/26363254/</th>\n",
       "      <th>ТѕўуІ╝2</th>\n",
       "      <th>уі»ТѕЉСИГтЇјУђЁУЎйУ┐ют┐ЁУ»Џ№╝їУ┐ЎтЈЦУ»ЮСИђуЏ┤тюеТѕЉУёЉтГљжЄїтЏътЊЇ</th>\n",
       "      <td>4</td>\n",
       "    </tr>\n",
       "    <tr>\n",
       "      <th>24</th>\n",
       "      <th>https://movie.douban.com/subject/26363254/</th>\n",
       "      <th>ТѕўуІ╝2</th>\n",
       "      <th>уЅЄтц┤ТхижЄїжѓБтю║тіеСйюТѕЈуюІт«їт░▒тЉєСИЇСИІтј╗С║є№╝їтцфтЂЄтцфтЂџСйю№╝їТЈљтЅЇуд╗тю║сђѓ</th>\n",
       "      <td>1</td>\n",
       "    </tr>\n",
       "    <tr>\n",
       "      <th>25</th>\n",
       "      <th>https://movie.douban.com/subject/26363254/</th>\n",
       "      <th>ТѕўуІ╝2</th>\n",
       "      <th>тЦйуюІ№╝їУ┐ЎжЃеТѕЈУ«ЕС║║уюІуџёуЃГУАђТ▓ИУЁЙ№╝їТЅЊТѕЈТї║уЄЃуџё№╝їтљ┤С║гТ╝ћТіђТБњтЉєС║є</th>\n",
       "      <td>4</td>\n",
       "    </tr>\n",
       "    <tr>\n",
       "      <th>26</th>\n",
       "      <th>https://movie.douban.com/subject/26363254/</th>\n",
       "      <th>ТѕўуІ╝2</th>\n",
       "      <th>угдтљѕРђюТюЅжњ▒С║єу╗ГжЏєтЈЇУђїТІЇТЏ┤ти«РђЮУ┐ЎСИђТћЙС╣ІтЏЏТхиУђїуџєтЄєуџёУДётЙІ№╝їтю║жЮбУХітЂџУХітцД№╝їуёХУђїС╝┤жџЈуЮђтљёуДЇтіеСйютю║жЮбтњїуЅ╣ТЋѕтю║жЮбуџётЇЄу║Д№╝їУ┐ЎСИђжЃеуџётЈЎС║ІтЈЇУђїтЈўтЙЌжЮътИИтЄїС╣▒сђѓТа╝т▒ђжбЄтцД№╝їТЃ│ТІЇТѕљсђіж╗Љж╣░тЮаУљйсђІ№╝їу╗ЊТъюТњЉТГ╗ТюђтцџС╣ЪтЈфТў»т«ўТќ╣СИ╗ТЌІтЙІуЅѕуџёсђіТЋбТГ╗жўЪсђІсђѓтљ┤С║гуА«т«ъТюЅжЄјт┐Ѓ№╝їСйєУ«║УЄфТѕЉУДњУЅ▓т«џСйЇУЃйтіЏУ┐юСИЇтдѓтљїТў»тіеСйюТ╝ћтЉўтЄ║У║ФуџёућётГљСИ╣сђѓ</th>\n",
       "      <td>2</td>\n",
       "    </tr>\n",
       "    <tr>\n",
       "      <th>27</th>\n",
       "      <th>https://movie.douban.com/subject/26363254/</th>\n",
       "      <th>ТѕўуІ╝2</th>\n",
       "      <th>У»┤тќюТгбУ┐ЎжЃеуЅЄтГљуџёС║║СИЇТў»УБЁтѓ╗т░▒Тў»уюЪтѓ╗№╝їУдЂСИЇТў»уюЪуџёТ▓АТюЅтѕФуџётЈ»уюІУѓ»т«џТў»СИЇС╝џжђЅУ┐ЎжЃеуџё№╝їуЏ┤ућиуЎїтѕ░С╗цС║║тЈЉТїЄ№╝їТЅђТюЅтЅДТЃЁУх░тљЉС╣Ът«їтЁеТў»С╣ЮтЇЂт╣┤С╗БжѓБтЦЌуЁДТљг№╝їт«АуЙјУ┐ЎС╗ХС║Ітё┐уюЪСИЇТў»СИђТЌХтЇіС╝џтё┐УЃйтЪ╣тЁ╗тЄ║ТЮЦуџёсђѓ</th>\n",
       "      <td>2</td>\n",
       "    </tr>\n",
       "    <tr>\n",
       "      <th>28</th>\n",
       "      <th>https://movie.douban.com/subject/26363254/</th>\n",
       "      <th>ТѕўуІ╝2</th>\n",
       "      <th>ТЋ┤жЃеућхтй▒т╗Ху╗Г1уџёжБјТа╝№╝їуЃГУАђсђѓтю║жЮбТ»ћ1ТЮЦуџёУдЂтцД№╝їТЅЊТѕЈтіеСйюСИЇжћЎ№╝їтљ┤С║гТї║жђѓтљѕТ╝ћтєЏС║║уџё№╝їућхтй▒С╣ІтЅЇуџёСИГтЏйТбдуЅЄТ«хС╗ќжЃйт┐хуџёті▓тё┐ті▓тё┐уџёсђѓТЋ┤СйЊТЮЦУ»┤У┐ўСИЇжћЎ№╝їСИЇУ┐Єт╝ау┐░тцфУ┐ЮтњїС║є№╝їСИђтЄ║ТЮЦт░▒СИђУѓАжЏижўхжЏеуџёућ╗жБјсђѓ</th>\n",
       "      <td>4</td>\n",
       "    </tr>\n",
       "    <tr>\n",
       "      <th>29</th>\n",
       "      <th>https://movie.douban.com/subject/26363254/</th>\n",
       "      <th>ТѕўуІ╝2</th>\n",
       "      <th>уЏ«уъфуІЌтЉє№╝ЂтцфуўаУќётЦйуюІС║є№╝ЂСИГтЏйС║║уЅЏbт░▒Тў»уАгжЂЊуљє№╝ЂжџћтБЂт╗║тєЏтцДуѕижЃйТ▓АСйаС╗гуѕ▒тЏй</th>\n",
       "      <td>1</td>\n",
       "    </tr>\n",
       "    <tr>\n",
       "      <th>...</th>\n",
       "      <th>...</th>\n",
       "      <th>...</th>\n",
       "      <th>...</th>\n",
       "      <td>...</td>\n",
       "    </tr>\n",
       "    <tr>\n",
       "      <th>260122</th>\n",
       "      <th>https://movie.douban.com/subject/1441763/</th>\n",
       "      <th>СИЇуЙЂуЙјт░Љт╣┤ ├ђ cause d'un gar├Дon</th>\n",
       "      <th>ТЌаУЂі= =ТІЇТЉёТЅІТ│ЋGJ</th>\n",
       "      <td>3</td>\n",
       "    </tr>\n",
       "    <tr>\n",
       "      <th>260123</th>\n",
       "      <th>https://movie.douban.com/subject/1441763/</th>\n",
       "      <th>СИЇуЙЂуЙјт░Љт╣┤ ├ђ cause d'un gar├Дon</th>\n",
       "      <th>т░ЈућиСИ╗ТИИТ││ТИИтЙЌуюЪт┐ЃТї║т┐Ф~</th>\n",
       "      <td>3</td>\n",
       "    </tr>\n",
       "    <tr>\n",
       "      <th>260124</th>\n",
       "      <th>https://movie.douban.com/subject/1441763/</th>\n",
       "      <th>СИЇуЙЂуЙјт░Љт╣┤ ├ђ cause d'un gar├Дon</th>\n",
       "      <th>Apr├еs avoir vu ce film ├а 2 heures 10, moi, je suis un peu excit├Е. Ce que je veux dire premi├еrement est que le ton travail et ta r├Еsultat est la ressource de respect des autres. Et puis, je suis tr├еs ├Еmu pour la vie de Vincent. Il est un gar├Дon courageux et fort. Il sait</th>\n",
       "      <td>4</td>\n",
       "    </tr>\n",
       "    <tr>\n",
       "      <th>260125</th>\n",
       "      <th>https://movie.douban.com/subject/1441763/</th>\n",
       "      <th>СИЇуЙЂуЙјт░Љт╣┤ ├ђ cause d'un gar├Дon</th>\n",
       "      <th>уггСИђтђІтљ╗тЦйуЙјсђѓСИЇтЇЉСИЇС║бсђѓТЋ┤жФћТёЪУд║УЅ»тЦйсђѓжђЎТў»Т»ћУ╝ЃуЈЙт»дтњїт╣┤У╝ЋуџёТЋЁС║Ісђѓ</th>\n",
       "      <td>3</td>\n",
       "    </tr>\n",
       "    <tr>\n",
       "      <th>260126</th>\n",
       "      <th>https://movie.douban.com/subject/1441763/</th>\n",
       "      <th>СИЇуЙЂуЙјт░Љт╣┤ ├ђ cause d'un gar├Дon</th>\n",
       "      <th>ТќЄТБ«т┐ДжЃЂуџёую╝уЦътЈФС║║т┐Ѓуќ╝сђѓ</th>\n",
       "      <td>4</td>\n",
       "    </tr>\n",
       "    <tr>\n",
       "      <th>260127</th>\n",
       "      <th>https://movie.douban.com/subject/1441763/</th>\n",
       "      <th>СИЇуЙЂуЙјт░Љт╣┤ ├ђ cause d'un gar├Дon</th>\n",
       "      <th>У┐ўСИЇжћЎ№╝їТюђтљју╗Њт░ЙС║њуЏИУ┐йжђљуџёжѓБСИфТЂХт»њтЋі...</th>\n",
       "      <td>4</td>\n",
       "    </tr>\n",
       "    <tr>\n",
       "      <th>260128</th>\n",
       "      <th>https://movie.douban.com/subject/1441763/</th>\n",
       "      <th>СИЇуЙЂуЙјт░Љт╣┤ ├ђ cause d'un gar├Дon</th>\n",
       "      <th>уЎЙт║дС║Љт▒ЁуёХсђѓсђѓсђѓТііТѕЉтГўуџёУ┐ЎуЅЄтГљудЂС║є№╝Ъ№╝ЂтЊѕ№╝Ъ№╝Ђ</th>\n",
       "      <td>3</td>\n",
       "    </tr>\n",
       "    <tr>\n",
       "      <th>260129</th>\n",
       "      <th>https://movie.douban.com/subject/1441763/</th>\n",
       "      <th>СИЇуЙЂуЙјт░Љт╣┤ ├ђ cause d'un gar├Дon</th>\n",
       "      <th>У»ЮУ»┤Т│ЋтЏйтЄ║тИЁтЊЦ№╝їТ│ЋтЏйС║║тќюТгбТхфТ╝Ф№╝їтє▓уЮђуЅЄтљЇТѕЉуѓ╣уі╣У▒ФжЃйТ▓АТюЅуџёуюІС║є№╝їт░Љт╣┤уЙјСИЇуЙјуюЪСИЇтЦйУ»┤№╝їСйєТў»тЉетЏ┤С║║С╗јуЪЦжЂЊућиСИ╗Тў»GAYтљј№╝їСИђт╝ђтДІуџёТјњТїцтѕ░ТюђтљјуџёТјЦтЈЌ№╝їтђњТў»жђЈуЮђт┐ЃуЂхуЙјуџётй▒тГљ№╝їућиСИ╗Тў»т╣ИУ┐љуџё№╝їуѕХТ»ЇсђЂУђЂтИѕсђЂТюІтЈІсђЂТЋЎу╗ЃС╗ЦтЈіСИіУ┐Єт║іуџётЦ│тЈІС╗јСИђт╝ђтДІСЙ┐уФЎтюеС╗ќуџёСИђУЙ╣№╝їУ┐ЎСИЇтЙЌСИЇУ»┤Тў»ућхтй▒тЈѕСИђТгАтѕЏжђаС║єтЦЄУ┐╣сђѓ</th>\n",
       "      <td>3</td>\n",
       "    </tr>\n",
       "    <tr>\n",
       "      <th>260130</th>\n",
       "      <th>https://movie.douban.com/subject/1441763/</th>\n",
       "      <th>СИЇуЙЂуЙјт░Љт╣┤ ├ђ cause d'un gar├Дon</th>\n",
       "      <th>уггСИђтђІтљ╗тЦйуЙјсђѓСИЇтЇЉСИЇС║бсђѓТЋ┤жФћТёЪУд║УЅ»тЦйсђѓжђЎТў»Т»ћУ╝ЃуЈЙт»дтњїт╣┤У╝ЋуџёТЋЁС║Ісђѓ</th>\n",
       "      <td>3</td>\n",
       "    </tr>\n",
       "    <tr>\n",
       "      <th>260131</th>\n",
       "      <th>https://movie.douban.com/subject/1441763/</th>\n",
       "      <th>СИЇуЙЂуЙјт░Љт╣┤ ├ђ cause d'un gar├Дon</th>\n",
       "      <th>ТќЄТБ«т┐ДжЃЂуџёую╝уЦътЈФС║║т┐Ѓуќ╝сђѓ</th>\n",
       "      <td>4</td>\n",
       "    </tr>\n",
       "    <tr>\n",
       "      <th>260132</th>\n",
       "      <th>https://movie.douban.com/subject/1441763/</th>\n",
       "      <th>СИЇуЙЂуЙјт░Љт╣┤ ├ђ cause d'un gar├Дon</th>\n",
       "      <th>У┐ўСИЇжћЎ№╝їТюђтљју╗Њт░ЙС║њуЏИУ┐йжђљуџёжѓБСИфТЂХт»њтЋі...</th>\n",
       "      <td>4</td>\n",
       "    </tr>\n",
       "    <tr>\n",
       "      <th>260133</th>\n",
       "      <th>https://movie.douban.com/subject/1441763/</th>\n",
       "      <th>СИЇуЙЂуЙјт░Љт╣┤ ├ђ cause d'un gar├Дon</th>\n",
       "      <th>уЎЙт║дС║Љт▒ЁуёХсђѓсђѓсђѓТііТѕЉтГўуџёУ┐ЎуЅЄтГљудЂС║є№╝Ъ№╝ЂтЊѕ№╝Ъ№╝Ђ</th>\n",
       "      <td>3</td>\n",
       "    </tr>\n",
       "    <tr>\n",
       "      <th>260134</th>\n",
       "      <th>https://movie.douban.com/subject/1441763/</th>\n",
       "      <th>СИЇуЙЂуЙјт░Љт╣┤ ├ђ cause d'un gar├Дon</th>\n",
       "      <th>У»ЮУ»┤Т│ЋтЏйтЄ║тИЁтЊЦ№╝їТ│ЋтЏйС║║тќюТгбТхфТ╝Ф№╝їтє▓уЮђуЅЄтљЇТѕЉуѓ╣уі╣У▒ФжЃйТ▓АТюЅуџёуюІС║є№╝їт░Љт╣┤уЙјСИЇуЙјуюЪСИЇтЦйУ»┤№╝їСйєТў»тЉетЏ┤С║║С╗јуЪЦжЂЊућиСИ╗Тў»GAYтљј№╝їСИђт╝ђтДІуџёТјњТїцтѕ░ТюђтљјуџёТјЦтЈЌ№╝їтђњТў»жђЈуЮђт┐ЃуЂхуЙјуџётй▒тГљ№╝їућиСИ╗Тў»т╣ИУ┐љуџё№╝їуѕХТ»ЇсђЂУђЂтИѕсђЂТюІтЈІсђЂТЋЎу╗ЃС╗ЦтЈіСИіУ┐Єт║іуџётЦ│тЈІС╗јСИђт╝ђтДІСЙ┐уФЎтюеС╗ќуџёСИђУЙ╣№╝їУ┐ЎСИЇтЙЌСИЇУ»┤Тў»ућхтй▒тЈѕСИђТгАтѕЏжђаС║єтЦЄУ┐╣сђѓ</th>\n",
       "      <td>3</td>\n",
       "    </tr>\n",
       "    <tr>\n",
       "      <th>260135</th>\n",
       "      <th>https://movie.douban.com/subject/1441763/</th>\n",
       "      <th>СИЇуЙЂуЙјт░Љт╣┤ ├ђ cause d'un gar├Дon</th>\n",
       "      <th>ућЪТ┤╗сђЂуѕ▒ТЃЁсђЂС║▓ТЃЁсђЂтЈІТЃЁсђЂжђЅТІЕсђѓ</th>\n",
       "      <td>3</td>\n",
       "    </tr>\n",
       "    <tr>\n",
       "      <th>260136</th>\n",
       "      <th>https://movie.douban.com/subject/1441763/</th>\n",
       "      <th>СИЇуЙЂуЙјт░Љт╣┤ ├ђ cause d'un gar├Дon</th>\n",
       "      <th>СИђУѕгУѕг</th>\n",
       "      <td>3</td>\n",
       "    </tr>\n",
       "    <tr>\n",
       "      <th>260137</th>\n",
       "      <th>https://movie.douban.com/subject/1441763/</th>\n",
       "      <th>СИЇуЙЂуЙјт░Љт╣┤ ├ђ cause d'un gar├Дon</th>\n",
       "      <th>ућхтй▒СИђУѕг,тЈ»С╗ЦжџЈСЙ┐уюІуюІ.</th>\n",
       "      <td>3</td>\n",
       "    </tr>\n",
       "    <tr>\n",
       "      <th>260138</th>\n",
       "      <th>https://movie.douban.com/subject/1441763/</th>\n",
       "      <th>СИЇуЙЂуЙјт░Љт╣┤ ├ђ cause d'un gar├Дon</th>\n",
       "      <th>ТѕЉтѕ░т║ЋТў»ТђјС╣ѕуюІт«їт«Ѓуџё..</th>\n",
       "      <td>1</td>\n",
       "    </tr>\n",
       "    <tr>\n",
       "      <th>260139</th>\n",
       "      <th>https://movie.douban.com/subject/1441763/</th>\n",
       "      <th>СИЇуЙЂуЙјт░Љт╣┤ ├ђ cause d'un gar├Дon</th>\n",
       "      <th>ТѕљжЋ┐уџёуЃдТЂ╝№╝їуЙјтъІуџёт░Љт╣┤№╝їжџЙС╗ЦуюІТИЁуџёуюЪуЏИсђѓ</th>\n",
       "      <td>4</td>\n",
       "    </tr>\n",
       "    <tr>\n",
       "      <th>260140</th>\n",
       "      <th>https://movie.douban.com/subject/1441763/</th>\n",
       "      <th>СИЇуЙЂуЙјт░Љт╣┤ ├ђ cause d'un gar├Дon</th>\n",
       "      <th>Уй╗ТЮЙтќютЅДућхтй▒</th>\n",
       "      <td>4</td>\n",
       "    </tr>\n",
       "    <tr>\n",
       "      <th>260141</th>\n",
       "      <th>https://movie.douban.com/subject/1441763/</th>\n",
       "      <th>СИЇуЙЂуЙјт░Љт╣┤ ├ђ cause d'un gar├Дon</th>\n",
       "      <th>ТИЕТџќуџётЅДТЃЁ,ТИЕТџќуџёу╗Њт▒ђ...</th>\n",
       "      <td>3</td>\n",
       "    </tr>\n",
       "    <tr>\n",
       "      <th>260142</th>\n",
       "      <th>https://movie.douban.com/subject/1441763/</th>\n",
       "      <th>СИЇуЙЂуЙјт░Љт╣┤ ├ђ cause d'un gar├Дon</th>\n",
       "      <th>СИ╗УДњС╗гжЃйтЙѕтЦйуюІ тЈѕТў»СИђСИфубДТѓ▓ТЃЁуџёт░ЈтЦ│СИ╗УДњ\\nтЈѕТў»СИђТ«хтЁ│С║јтЇЂСИЃт▓ЂуџёТЋЁС║І</th>\n",
       "      <td>5</td>\n",
       "    </tr>\n",
       "    <tr>\n",
       "      <th>260143</th>\n",
       "      <th>https://movie.douban.com/subject/1441763/</th>\n",
       "      <th>СИЇуЙЂуЙјт░Љт╣┤ ├ђ cause d'un gar├Дon</th>\n",
       "      <th>СИђтѕЄжЃйТў»уѕ▓С║єжАЈ№╝Ђ№╝Ђ№╝Ђ= =||||||</th>\n",
       "      <td>3</td>\n",
       "    </tr>\n",
       "    <tr>\n",
       "      <th>260144</th>\n",
       "      <th>https://movie.douban.com/subject/1441763/</th>\n",
       "      <th>СИЇуЙЂуЙјт░Љт╣┤ ├ђ cause d'un gar├Дon</th>\n",
       "      <th>тцДТдѓуюІС║є\\nТђ╗уџёТЮЦУ»┤У┐ўТў»СИЇжћЎ тЁХт«ътєЁт┐ЃТў»тЇЂтѕєТюЪтЙЁућиСИ╗тњїС╗ќуџётЦйтЈІтЈЉућЪуѓ╣С╗ђС╣ѕуџё тЊјсђѓсђѓсђѓ</th>\n",
       "      <td>3</td>\n",
       "    </tr>\n",
       "    <tr>\n",
       "      <th>260145</th>\n",
       "      <th>https://movie.douban.com/subject/1441763/</th>\n",
       "      <th>СИЇуЙЂуЙјт░Љт╣┤ ├ђ cause d'un gar├Дon</th>\n",
       "      <th>тєЁт«╣тЈфУЃйУ»┤СИђУѕгсђѓсђѓтЦ│ТђДУДњУЅ▓ТђјС╣ѕжЃйУ┐ЎС╣ѕТѓ▓тѓгтЋі№╝Ђ№╝ЂСИЇУ┐ЄућиуїфУёџтЙѕтИЁ</th>\n",
       "      <td>3</td>\n",
       "    </tr>\n",
       "    <tr>\n",
       "      <th>260146</th>\n",
       "      <th>https://movie.douban.com/subject/1441763/</th>\n",
       "      <th>СИЇуЙЂуЙјт░Љт╣┤ ├ђ cause d'un gar├Дon</th>\n",
       "      <th>у┐ўС║єСИЅтцЕуЈГт░▒уфЮтюет«ХжЄїуюІт░ЈтЪ║уЅЄТЃ╣№╝ѕТЅІтіеТІюТІю.gif</th>\n",
       "      <td>3</td>\n",
       "    </tr>\n",
       "    <tr>\n",
       "      <th>260147</th>\n",
       "      <th>https://movie.douban.com/subject/1441763/</th>\n",
       "      <th>СИЇуЙЂуЙјт░Љт╣┤ ├ђ cause d'un gar├Дon</th>\n",
       "      <th>ТѕЉтќюТгбтЦ│СИ╗УДњ№╝їтИїУЁіжЏЋтАЉСИђУѕгуџёжЮбт║ъСИјУ║ФСйЊсђѓ№╝ѕтюеСИђжЃетљїт┐ЌжбўТЮљуџёућхтй▒СИГУ┐иТЂІтЦ│СИ╗УДњтЦйтЃЈтЙѕСИЇт║ћУ»ЦтљД№╝Ѕ</th>\n",
       "      <td>2</td>\n",
       "    </tr>\n",
       "    <tr>\n",
       "      <th>260148</th>\n",
       "      <th>https://movie.douban.com/subject/1441763/</th>\n",
       "      <th>СИЇуЙЂуЙјт░Љт╣┤ ├ђ cause d'un gar├Дon</th>\n",
       "      <th>тє▓уЮђжбютђ╝У┐ўтЈ»С╗ЦуюІСИІтј╗</th>\n",
       "      <td>3</td>\n",
       "    </tr>\n",
       "    <tr>\n",
       "      <th>260149</th>\n",
       "      <th>https://movie.douban.com/subject/1441763/</th>\n",
       "      <th>СИЇуЙЂуЙјт░Љт╣┤ ├ђ cause d'un gar├Дon</th>\n",
       "      <th>жЎцС║єСИ╗С║║тЁгжЃйСИЇтИЁ№╝їтЦ│СИ╗Тї║Т╝ѓС║«С╣ІтцќРђдРђдтћ»СИђуџёТёЪУДЅт░▒Тў»С╗ќућиТюІтЈІуюЪУ«ЕС║║ТЂХт┐Ѓ</th>\n",
       "      <td>3</td>\n",
       "    </tr>\n",
       "    <tr>\n",
       "      <th>&lt;/pre&gt;&lt;/body&gt;&lt;/html&gt;</th>\n",
       "      <th>NaN</th>\n",
       "      <th>NaN</th>\n",
       "      <th>NaN</th>\n",
       "      <td>NaN</td>\n",
       "    </tr>\n",
       "    <tr>\n",
       "      <th>NaN</th>\n",
       "      <th>NaN</th>\n",
       "      <th>NaN</th>\n",
       "      <th>NaN</th>\n",
       "      <td>NaN</td>\n",
       "    </tr>\n",
       "  </tbody>\n",
       "</table>\n",
       "<p>261500 rows × 1 columns</p>\n",
       "</div>"
      ],
      "text/plain": [
       "                                                                                                                                                                                       bplist00Л\u0001\u0002_\u0010\u000fWebMainResourceН\u0003\u0004\u0005\u0006\u0007\b\\t\n",
       "\n",
       "\n",
       "_\u0010\u0013WebResourceMIMEType_\u0010\u001bWebResourceTextEncod... link                                       name                                  comment                                                                              star\n",
       "1                                                  https://movie.douban.com/subject/26363254/ ТѕўуІ╝2                               тљ┤С║гТёЈТиФтѕ░С║єУёЉТ«Іуџётю░ТГЦ№╝їуюІС║єТЂХт┐...                                      1\n",
       "2                                                  https://movie.douban.com/subject/26363254/ ТѕўуІ╝2                               ждќТўауц╝уюІуџёсђѓтцфТЂљТђќС║єУ┐ЎСИфућхтй▒№╝їСИ...                                      2\n",
       "3                                                  https://movie.douban.com/subject/26363254/ ТѕўуІ╝2                               тљ┤С║гуџёуѓњСйюТ░┤т╣│СИЇУЙЊтє»т░Јтѕџ№╝їСйєт░Јтѕ...                                      2\n",
       "4                                                  https://movie.douban.com/subject/26363254/ ТѕўуІ╝2                               тЄГУЅ»т┐ЃУ»┤№╝їтЦйуюІтѕ░СИЇтЃЈсђіТѕўуІ╝1сђІуџёу...                                      4\n",
       "5                                                  https://movie.douban.com/subject/26363254/ ТѕўуІ╝2                               СИГС║їтЙЌтЙѕ                                                                            1\n",
       "6                                                  https://movie.douban.com/subject/26363254/ ТѕўуІ╝2                               Рђюуі»ТѕЉСИГтЇјУђЁ№╝їУЎйУ┐ют┐ЁУ»ЏРђЮ№╝їтљ┤С║гТ»...                                      1\n",
       "7                                                  https://movie.douban.com/subject/26363254/ ТѕўуІ╝2                               УёЉтГљТў»СИфтЦйСИюУЦ┐№╝їтИїТюЏу╝ќтЅДС╗гжЃйУЃйТю...                                      2\n",
       "8                                                  https://movie.douban.com/subject/26363254/ ТѕўуІ╝2                               СИЅТўЪтЇі№╝їт«ъТЅЊт«ъуџё7тѕєсђѓуггСИђжЏєтюеуѕ▒т...                                      4\n",
       "9                                                  https://movie.douban.com/subject/26363254/ ТѕўуІ╝2                               т╝ђу»ЄжЋ┐жЋютц┤ТЃіжЎЕтцДТ░ћт╝ЋС║║тЁЦУЃю у╗ЊтљѕС...                                      4\n",
       "10                                                 https://movie.douban.com/subject/26363254/ ТѕўуІ╝2                               15/100тљ┤С║гуџётєит│░тюеУ┐ЎжЃежЄїтЇ│тЃЈТѕљжЙЎ№╝...                                      1\n",
       "11                                                 https://movie.douban.com/subject/26363254/ ТѕўуІ╝2                               уі»ТѕЉСИГтЇјУђЁУЎйУ┐ют┐ЁУ»Џ№╝їТў»ТюЅтцџТЌаУёЉТЅ...                                      1\n",
       "12                                                 https://movie.douban.com/subject/26363254/ ТѕўуІ╝2                               У┐ЎжЃеТѕЈУ«ЕС║║уюІуџёуЃГУАђТ▓ИУЁЙ№╝їт»╣тљ┤С║гУи...                                      4\n",
       "13                                                 https://movie.douban.com/subject/26363254/ ТѕўуІ╝2                               тЂЄтЌе№╝їуЅ╣тѕФТЂХт┐Ѓуџёућхтй▒сђѓ                                                       1\n",
       "14                                                 https://movie.douban.com/subject/26363254/ ТѕўуІ╝2                               ТюЅтЄатцёТЃЁУіѓУ«Йуй«У┐ЄС║јт░┤т░г№╝їтй░ТўЙтЏйт«...                                      2\n",
       "15                                                 https://movie.douban.com/subject/26363254/ ТѕўуІ╝2                               т░▒Тў»СИђжЃеуѕйуЅЄ№╝їТЅЊТѕЈТї║уЄЃ№╝їСйєТў»ТЋЁС║...                                      2\n",
       "16                                                 https://movie.douban.com/subject/26363254/ ТѕўуІ╝2                               УххСИюТЮЦ№╝џУЙЙт║иС╣дУ«░№╝їТѕЉС╗гТјЦтѕ░тюежЮъТ┤...                                      5\n",
       "17                                                 https://movie.douban.com/subject/26363254/ ТѕўуІ╝2                               СИІСИђжЃеТІЇтќютЅДтљД№╝їТЋ┤СИфуЅЄтГљуюЪТёЪУДЅТї...                                      2\n",
       "18                                                 https://movie.douban.com/subject/26363254/ ТѕўуІ╝2                               сђіТѕўуІ╝2сђІжЄїтљ┤С║гУ┐ЎС╣ѕУЃйТЅЊ№╝їС╗ќТЅЊтЙЌУ...                                      3\n",
       "19                                                 https://movie.douban.com/subject/26363254/ ТѕўуІ╝2                               т┐ЃтЙђСИђтцёТЃ│№╝їті▓тЙђСИђтцёСй┐№╝їт░▒УЃйт«ъуј...                                      3\n",
       "20                                                 https://movie.douban.com/subject/26363254/ ТѕўуІ╝2                               У┐ЎжЃйУЃйуЂФсђѓТў»ТѕЉТ▓АУДЂУ»є№╝Ђ                                                       2\n",
       "21                                                 https://movie.douban.com/subject/26363254/ ТѕўуІ╝2                               т╝ђтц┤уџёТ░┤СИІжЋ┐т»╣тє│ТѕЈтЈ»у«ЌтЇјУ»Гућхтй▒уџ...                                      4\n",
       "22                                                 https://movie.douban.com/subject/26363254/ ТѕўуІ╝2                               тЙѕућет┐ЃтЋітљ┤С║гт»╝Т╝ћ№╝їт░ЈуюІСйаС║є№╝їуА«т«...                                      4\n",
       "23                                                 https://movie.douban.com/subject/26363254/ ТѕўуІ╝2                               уі»ТѕЉСИГтЇјУђЁУЎйУ┐ют┐ЁУ»Џ№╝їУ┐ЎтЈЦУ»ЮСИђуЏ┤тю...                                      4\n",
       "24                                                 https://movie.douban.com/subject/26363254/ ТѕўуІ╝2                               уЅЄтц┤ТхижЄїжѓБтю║тіеСйюТѕЈуюІт«їт░▒тЉєСИЇСИІтј...                                      1\n",
       "25                                                 https://movie.douban.com/subject/26363254/ ТѕўуІ╝2                               тЦйуюІ№╝їУ┐ЎжЃеТѕЈУ«ЕС║║уюІуџёуЃГУАђТ▓ИУЁЙ№╝їТЅ...                                      4\n",
       "26                                                 https://movie.douban.com/subject/26363254/ ТѕўуІ╝2                               угдтљѕРђюТюЅжњ▒С║єу╗ГжЏєтЈЇУђїТІЇТЏ┤ти«РђЮУ┐ЎСИ...                                      2\n",
       "27                                                 https://movie.douban.com/subject/26363254/ ТѕўуІ╝2                               У»┤тќюТгбУ┐ЎжЃеуЅЄтГљуџёС║║СИЇТў»УБЁтѓ╗т░▒Тў»ую...                                      2\n",
       "28                                                 https://movie.douban.com/subject/26363254/ ТѕўуІ╝2                               ТЋ┤жЃеућхтй▒т╗Ху╗Г1уџёжБјТа╝№╝їуЃГУАђсђѓтю║жЮбТ...                                      4\n",
       "29                                                 https://movie.douban.com/subject/26363254/ ТѕўуІ╝2                               уЏ«уъфуІЌтЉє№╝ЂтцфуўаУќётЦйуюІС║є№╝ЂСИГтЏйС║║уЅ...                                      1\n",
       "...                                                                                                                                                                                                                       ...\n",
       "260122                                             https://movie.douban.com/subject/1441763/  СИЇуЙЂуЙјт░Љт╣┤ ├ђ cause d'un gar├Дon ТЌаУЂі= =ТІЇТЉёТЅІТ│ЋGJ                                                                 3\n",
       "260123                                             https://movie.douban.com/subject/1441763/  СИЇуЙЂуЙјт░Љт╣┤ ├ђ cause d'un gar├Дon т░ЈућиСИ╗ТИИТ││ТИИтЙЌуюЪт┐ЃТї║т┐Ф~                                                      3\n",
       "260124                                             https://movie.douban.com/subject/1441763/  СИЇуЙЂуЙјт░Љт╣┤ ├ђ cause d'un gar├Дon Apr├еs avoir vu ce film ├а 2 heures 10, moi, je...                                      4\n",
       "260125                                             https://movie.douban.com/subject/1441763/  СИЇуЙЂуЙјт░Љт╣┤ ├ђ cause d'un gar├Дon уггСИђтђІтљ╗тЦйуЙјсђѓСИЇтЇЉСИЇС║бсђѓТЋ┤жФћТёЪУд...                                      3\n",
       "260126                                             https://movie.douban.com/subject/1441763/  СИЇуЙЂуЙјт░Љт╣┤ ├ђ cause d'un gar├Дon ТќЄТБ«т┐ДжЃЂуџёую╝уЦътЈФС║║т┐Ѓуќ╝сђѓ                                                    4\n",
       "260127                                             https://movie.douban.com/subject/1441763/  СИЇуЙЂуЙјт░Љт╣┤ ├ђ cause d'un gar├Дon У┐ўСИЇжћЎ№╝їТюђтљју╗Њт░ЙС║њуЏИУ┐йжђљуџёжѓБСИфТЂ...                                      4\n",
       "260128                                             https://movie.douban.com/subject/1441763/  СИЇуЙЂуЙјт░Љт╣┤ ├ђ cause d'un gar├Дon уЎЙт║дС║Љт▒ЁуёХсђѓсђѓсђѓТііТѕЉтГўуџёУ┐ЎуЅЄтГљуд...                                      3\n",
       "260129                                             https://movie.douban.com/subject/1441763/  СИЇуЙЂуЙјт░Љт╣┤ ├ђ cause d'un gar├Дon У»ЮУ»┤Т│ЋтЏйтЄ║тИЁтЊЦ№╝їТ│ЋтЏйС║║тќюТгбТхфТ╝Ф№╝...                                      3\n",
       "260130                                             https://movie.douban.com/subject/1441763/  СИЇуЙЂуЙјт░Љт╣┤ ├ђ cause d'un gar├Дon уггСИђтђІтљ╗тЦйуЙјсђѓСИЇтЇЉСИЇС║бсђѓТЋ┤жФћТёЪУд...                                      3\n",
       "260131                                             https://movie.douban.com/subject/1441763/  СИЇуЙЂуЙјт░Љт╣┤ ├ђ cause d'un gar├Дon ТќЄТБ«т┐ДжЃЂуџёую╝уЦътЈФС║║т┐Ѓуќ╝сђѓ                                                    4\n",
       "260132                                             https://movie.douban.com/subject/1441763/  СИЇуЙЂуЙјт░Љт╣┤ ├ђ cause d'un gar├Дon У┐ўСИЇжћЎ№╝їТюђтљју╗Њт░ЙС║њуЏИУ┐йжђљуџёжѓБСИфТЂ...                                      4\n",
       "260133                                             https://movie.douban.com/subject/1441763/  СИЇуЙЂуЙјт░Љт╣┤ ├ђ cause d'un gar├Дon уЎЙт║дС║Љт▒ЁуёХсђѓсђѓсђѓТііТѕЉтГўуџёУ┐ЎуЅЄтГљуд...                                      3\n",
       "260134                                             https://movie.douban.com/subject/1441763/  СИЇуЙЂуЙјт░Љт╣┤ ├ђ cause d'un gar├Дon У»ЮУ»┤Т│ЋтЏйтЄ║тИЁтЊЦ№╝їТ│ЋтЏйС║║тќюТгбТхфТ╝Ф№╝...                                      3\n",
       "260135                                             https://movie.douban.com/subject/1441763/  СИЇуЙЂуЙјт░Љт╣┤ ├ђ cause d'un gar├Дon ућЪТ┤╗сђЂуѕ▒ТЃЁсђЂС║▓ТЃЁсђЂтЈІТЃЁсђЂжђЅТІЕсђѓ                                           3\n",
       "260136                                             https://movie.douban.com/subject/1441763/  СИЇуЙЂуЙјт░Љт╣┤ ├ђ cause d'un gar├Дon СИђУѕгУѕг                                                                               3\n",
       "260137                                             https://movie.douban.com/subject/1441763/  СИЇуЙЂуЙјт░Љт╣┤ ├ђ cause d'un gar├Дon ућхтй▒СИђУѕг,тЈ»С╗ЦжџЈСЙ┐уюІуюІ.                                                        3\n",
       "260138                                             https://movie.douban.com/subject/1441763/  СИЇуЙЂуЙјт░Љт╣┤ ├ђ cause d'un gar├Дon ТѕЉтѕ░т║ЋТў»ТђјС╣ѕуюІт«їт«Ѓуџё..                                                        1\n",
       "260139                                             https://movie.douban.com/subject/1441763/  СИЇуЙЂуЙјт░Љт╣┤ ├ђ cause d'un gar├Дon ТѕљжЋ┐уџёуЃдТЂ╝№╝їуЙјтъІуџёт░Љт╣┤№╝їжџЙС╗ЦуюІТИ...                                      4\n",
       "260140                                             https://movie.douban.com/subject/1441763/  СИЇуЙЂуЙјт░Љт╣┤ ├ђ cause d'un gar├Дon Уй╗ТЮЙтќютЅДућхтй▒                                                                      4\n",
       "260141                                             https://movie.douban.com/subject/1441763/  СИЇуЙЂуЙјт░Љт╣┤ ├ђ cause d'un gar├Дon ТИЕТџќуџётЅДТЃЁ,ТИЕТџќуџёу╗Њт▒ђ...                                                      3\n",
       "260142                                             https://movie.douban.com/subject/1441763/  СИЇуЙЂуЙјт░Љт╣┤ ├ђ cause d'un gar├Дon СИ╗УДњС╗гжЃйтЙѕтЦйуюІ тЈѕТў»СИђСИфубДТѓ▓ТЃЁуџёт...                                      5\n",
       "260143                                             https://movie.douban.com/subject/1441763/  СИЇуЙЂуЙјт░Љт╣┤ ├ђ cause d'un gar├Дon СИђтѕЄжЃйТў»уѕ▓С║єжАЈ№╝Ђ№╝Ђ№╝Ђ= =||||||                                                 3\n",
       "260144                                             https://movie.douban.com/subject/1441763/  СИЇуЙЂуЙјт░Љт╣┤ ├ђ cause d'un gar├Дon тцДТдѓуюІС║є\\nТђ╗уџёТЮЦУ»┤У┐ўТў»СИЇжћЎ тЁХт«ътє...                                      3\n",
       "260145                                             https://movie.douban.com/subject/1441763/  СИЇуЙЂуЙјт░Љт╣┤ ├ђ cause d'un gar├Дon тєЁт«╣тЈфУЃйУ»┤СИђУѕгсђѓсђѓтЦ│ТђДУДњУЅ▓ТђјС╣ѕжЃ...                                      3\n",
       "260146                                             https://movie.douban.com/subject/1441763/  СИЇуЙЂуЙјт░Љт╣┤ ├ђ cause d'un gar├Дon у┐ўС║єСИЅтцЕуЈГт░▒уфЮтюет«ХжЄїуюІт░ЈтЪ║уЅЄТЃ╣№╝...                                      3\n",
       "260147                                             https://movie.douban.com/subject/1441763/  СИЇуЙЂуЙјт░Љт╣┤ ├ђ cause d'un gar├Дon ТѕЉтќюТгбтЦ│СИ╗УДњ№╝їтИїУЁіжЏЋтАЉСИђУѕгуџёжЮбт║...                                      2\n",
       "260148                                             https://movie.douban.com/subject/1441763/  СИЇуЙЂуЙјт░Љт╣┤ ├ђ cause d'un gar├Дon тє▓уЮђжбютђ╝У┐ўтЈ»С╗ЦуюІСИІтј╗                                                          3\n",
       "260149                                             https://movie.douban.com/subject/1441763/  СИЇуЙЂуЙјт░Љт╣┤ ├ђ cause d'un gar├Дon жЎцС║єСИ╗С║║тЁгжЃйСИЇтИЁ№╝їтЦ│СИ╗Тї║Т╝ѓС║«С╣Ітц...                                      3\n",
       "</pre></body></html>                               NaN                                        NaN                                   NaN                                                                                   NaN\n",
       "NaN                                                NaN                                        NaN                                   NaN                                                                                   NaN\n",
       "\n",
       "[261500 rows x 1 columns]"
      ]
     },
     "execution_count": 6,
     "metadata": {},
     "output_type": "execute_result"
    }
   ],
   "source": [
    "content"
   ]
  },
  {
   "cell_type": "code",
   "execution_count": 60,
   "metadata": {},
   "outputs": [
    {
     "data": {
      "text/plain": [
       "'/Users/yuanboxu/Documents/GitHub/jupyters_and_slides/2019-summer/assignments'"
      ]
     },
     "execution_count": 60,
     "metadata": {},
     "output_type": "execute_result"
    }
   ],
   "source": [
    "import os\n",
    "os.getcwd()"
   ]
  },
  {
   "cell_type": "markdown",
   "metadata": {},
   "source": [
    "> "
   ]
  },
  {
   "cell_type": "markdown",
   "metadata": {},
   "source": [
    "#### 3. 获得最优质的的语言"
   ]
  },
  {
   "cell_type": "markdown",
   "metadata": {},
   "source": [
    "当我们能够生成随机的语言并且能判断之后，我们就可以生成更加合理的语言了。请定义 generate_best 函数，该函数输入一个语法 + 语言模型，能够生成**n**个句子，并能选择一个最合理的句子: \n",
    "\n"
   ]
  },
  {
   "cell_type": "markdown",
   "metadata": {},
   "source": [
    "提示，要实现这个函数，你需要Python的sorted函数"
   ]
  },
  {
   "cell_type": "code",
   "execution_count": 13,
   "metadata": {},
   "outputs": [
    {
     "data": {
      "text/plain": [
       "[1, 2, 3, 5]"
      ]
     },
     "execution_count": 13,
     "metadata": {},
     "output_type": "execute_result"
    }
   ],
   "source": [
    "sorted([1, 3, 5, 2])"
   ]
  },
  {
   "cell_type": "markdown",
   "metadata": {},
   "source": [
    "这个函数接受一个参数key，这个参数接受一个函数作为输入，例如"
   ]
  },
  {
   "cell_type": "code",
   "execution_count": 15,
   "metadata": {},
   "outputs": [
    {
     "data": {
      "text/plain": [
       "[(1, 4), (2, 5), (4, 4), (5, 0)]"
      ]
     },
     "execution_count": 15,
     "metadata": {},
     "output_type": "execute_result"
    }
   ],
   "source": [
    "sorted([(2, 5), (1, 4), (5, 0), (4, 4)], key=lambda x: x[0])"
   ]
  },
  {
   "cell_type": "markdown",
   "metadata": {},
   "source": [
    "能够让list按照第0个元素进行排序."
   ]
  },
  {
   "cell_type": "code",
   "execution_count": 16,
   "metadata": {},
   "outputs": [
    {
     "data": {
      "text/plain": [
       "[(5, 0), (1, 4), (4, 4), (2, 5)]"
      ]
     },
     "execution_count": 16,
     "metadata": {},
     "output_type": "execute_result"
    }
   ],
   "source": [
    "sorted([(2, 5), (1, 4), (5, 0), (4, 4)], key=lambda x: x[1])"
   ]
  },
  {
   "cell_type": "markdown",
   "metadata": {},
   "source": [
    "能够让list按照第1个元素进行排序."
   ]
  },
  {
   "cell_type": "code",
   "execution_count": 17,
   "metadata": {},
   "outputs": [
    {
     "data": {
      "text/plain": [
       "[(2, 5), (1, 4), (4, 4), (5, 0)]"
      ]
     },
     "execution_count": 17,
     "metadata": {},
     "output_type": "execute_result"
    }
   ],
   "source": [
    "sorted([(2, 5), (1, 4), (5, 0), (4, 4)], key=lambda x: x[1], reverse=True)"
   ]
  },
  {
   "cell_type": "markdown",
   "metadata": {},
   "source": [
    "能够让list按照第1个元素进行排序, 但是是递减的顺序。"
   ]
  },
  {
   "cell_type": "markdown",
   "metadata": {},
   "source": [
    ">"
   ]
  },
  {
   "cell_type": "code",
   "execution_count": 20,
   "metadata": {},
   "outputs": [],
   "source": [
    "def generate_best(): # you code here\n",
    "    pass"
   ]
  },
  {
   "cell_type": "markdown",
   "metadata": {},
   "source": [
    "好了，现在我们实现了自己的第一个AI模型，这个模型能够生成比较接近于人类的语言。"
   ]
  },
  {
   "cell_type": "markdown",
   "metadata": {},
   "source": [
    ">"
   ]
  },
  {
   "cell_type": "markdown",
   "metadata": {},
   "source": [
    "Q: 这个模型有什么问题？ 你准备如何提升？ "
   ]
  },
  {
   "cell_type": "markdown",
   "metadata": {},
   "source": [
    "Ans:"
   ]
  },
  {
   "cell_type": "markdown",
   "metadata": {},
   "source": [
    ">"
   ]
  },
  {
   "cell_type": "markdown",
   "metadata": {},
   "source": [
    "##### 以下内容为可选部分，对于绝大多数同学，能完成以上的项目已经很优秀了，下边的内容如果你还有精力可以试试，但不是必须的。"
   ]
  },
  {
   "cell_type": "markdown",
   "metadata": {},
   "source": [
    "#### 4. (Optional) 完成基于Pattern Match的语句问答\n",
    "> 我们的GitHub仓库中，有一个assignment-01-optional-pattern-match，这个难度较大，感兴趣的同学可以挑战一下。"
   ]
  },
  {
   "cell_type": "markdown",
   "metadata": {},
   "source": [
    "\n",
    "#### 5. (Optional) 完成阿兰图灵机器智能原始论文的阅读\n",
    "1. 请阅读阿兰图灵关于机器智能的原始论文：https://github.com/Computing-Intelligence/References/blob/master/AI%20%26%20Machine%20Learning/Computer%20Machinery%20and%20Intelligence.pdf \n",
    "2. 并按照GitHub仓库中的论文阅读模板，填写完毕后发送给我: mqgao@kaikeba.com 谢谢"
   ]
  },
  {
   "cell_type": "markdown",
   "metadata": {},
   "source": [
    "> "
   ]
  },
  {
   "cell_type": "markdown",
   "metadata": {},
   "source": [
    "各位同学，我们已经完成了自己的第一个AI模型，大家对人工智能可能已经有了一些感觉，人工智能的核心就是，我们如何设计一个模型、程序，在外部的输入变化的时候，我们的程序不变，依然能够解决问题。人工智能是一个很大的领域，目前大家所熟知的深度学习只是其中一小部分，之后也肯定会有更多的方法提出来，但是大家知道人工智能的目标，就知道了之后进步的方向。"
   ]
  },
  {
   "cell_type": "markdown",
   "metadata": {},
   "source": [
    "然后，希望大家对AI不要有恐惧感，这个并不难，大家加油！"
   ]
  },
  {
   "cell_type": "markdown",
   "metadata": {},
   "source": [
    ">"
   ]
  },
  {
   "cell_type": "markdown",
   "metadata": {},
   "source": [
    "![](https://timgsa.baidu.com/timg?image&quality=80&size=b9999_10000&sec=1561828422005&di=48d19c16afb6acc9180183a6116088ac&imgtype=0&src=http%3A%2F%2Fb-ssl.duitang.com%2Fuploads%2Fitem%2F201807%2F28%2F20180728150843_BECNF.thumb.224_0.jpeg)"
   ]
  }
 ],
 "metadata": {
  "kernelspec": {
   "display_name": "Python 3",
   "language": "python",
   "name": "python3"
  },
  "language_info": {
   "codemirror_mode": {
    "name": "ipython",
    "version": 3
   },
   "file_extension": ".py",
   "mimetype": "text/x-python",
   "name": "python",
   "nbconvert_exporter": "python",
   "pygments_lexer": "ipython3",
   "version": "3.7.3"
  }
 },
 "nbformat": 4,
 "nbformat_minor": 2
}
